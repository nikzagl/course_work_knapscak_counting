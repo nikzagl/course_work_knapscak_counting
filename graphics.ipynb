{
 "cells": [
  {
   "cell_type": "code",
   "execution_count": 1,
   "metadata": {},
   "outputs": [],
   "source": [
    "from counting import *\n",
    "from tqdm import tqdm, trange"
   ]
  },
  {
   "cell_type": "code",
   "execution_count": 6,
   "metadata": {},
   "outputs": [],
   "source": [
    "import numpy as np"
   ]
  },
  {
   "cell_type": "code",
   "execution_count": 6,
   "metadata": {},
   "outputs": [],
   "source": [
    "rng = np.random.default_rng(0)\n",
    "a_s = list()\n",
    "b_s = list()"
   ]
  },
  {
   "cell_type": "code",
   "execution_count": 11,
   "metadata": {},
   "outputs": [],
   "source": [
    "KNAPSACK_SIZE = 8"
   ]
  },
  {
   "cell_type": "code",
   "execution_count": null,
   "metadata": {},
   "outputs": [],
   "source": []
  },
  {
   "cell_type": "code",
   "execution_count": 12,
   "metadata": {},
   "outputs": [],
   "source": [
    "for i in range(1000):\n",
    "    a = rng.integers(5, 20, (KNAPSACK_SIZE, ))\n",
    "    b = rng.integers(1, np.sum(a)//2)\n",
    "    a_s.append(a)\n",
    "    b_s.append(b)"
   ]
  },
  {
   "cell_type": "code",
   "execution_count": 13,
   "metadata": {},
   "outputs": [
    {
     "data": {
      "text/plain": [
       "[array([17, 14, 12,  9,  9,  5,  6,  5], dtype=int64),\n",
       " array([17, 14, 18, 12, 14, 19, 15, 14], dtype=int64),\n",
       " array([13, 19,  9, 17, 15,  5, 10, 17], dtype=int64),\n",
       " array([ 5, 16, 15, 17,  7,  6, 17,  5], dtype=int64),\n",
       " array([ 6,  9, 12, 11, 11,  5,  5,  6], dtype=int64),\n",
       " array([15, 12, 14,  8, 14, 16, 10, 11], dtype=int64),\n",
       " array([17, 19, 10, 15, 19, 14, 17, 15], dtype=int64),\n",
       " array([10, 18,  7, 13, 15, 17, 12, 10], dtype=int64),\n",
       " array([11, 12, 15, 18,  6, 19, 12, 10], dtype=int64),\n",
       " array([13,  8,  9, 15, 13, 12, 10, 16], dtype=int64),\n",
       " array([ 9, 18,  8,  8, 15, 14,  5,  6], dtype=int64),\n",
       " array([17, 11, 16,  9,  8, 16, 18,  6], dtype=int64),\n",
       " array([15, 10, 13,  7, 17, 11, 18, 16], dtype=int64),\n",
       " array([ 8, 16,  5, 13, 11, 19,  7, 19], dtype=int64),\n",
       " array([14, 13, 18,  9, 18, 15, 18,  7], dtype=int64),\n",
       " array([19,  5, 10, 14,  6, 12, 14, 16], dtype=int64),\n",
       " array([11, 11, 12, 19,  7, 12,  5, 11], dtype=int64),\n",
       " array([14, 10, 19, 14, 19,  5, 11, 17], dtype=int64),\n",
       " array([11, 12, 11, 12,  8, 16,  6, 11], dtype=int64),\n",
       " array([16, 16, 15, 18, 18,  7,  6,  6], dtype=int64),\n",
       " array([19, 18, 15, 19, 18,  5,  6, 17], dtype=int64),\n",
       " array([19, 17, 19, 10,  7, 12, 19, 10], dtype=int64),\n",
       " array([10, 17,  8, 12,  9,  8, 18, 17], dtype=int64),\n",
       " array([18, 19,  8, 11, 13, 14, 11,  7], dtype=int64),\n",
       " array([15,  5, 17, 15,  7, 14, 12,  5], dtype=int64),\n",
       " array([15,  9,  5,  6, 16,  7, 12, 18], dtype=int64),\n",
       " array([ 9,  5, 12, 17, 14,  6, 14, 10], dtype=int64),\n",
       " array([11, 18, 19,  7, 13, 16,  8,  9], dtype=int64),\n",
       " array([ 8, 18,  8,  8,  6,  6, 16,  9], dtype=int64),\n",
       " array([13, 17, 13, 16, 17,  5, 13, 11], dtype=int64),\n",
       " array([11, 11, 12, 17, 17, 14, 15, 19], dtype=int64),\n",
       " array([10,  6, 13,  8, 13,  5, 17, 19], dtype=int64),\n",
       " array([17, 11,  5, 18, 19,  5, 13, 17], dtype=int64),\n",
       " array([11, 17, 17,  6,  5,  6, 10,  6], dtype=int64),\n",
       " array([ 8, 14, 12,  9, 19, 15, 14, 19], dtype=int64),\n",
       " array([ 6,  5, 17, 11,  5, 12, 10, 11], dtype=int64),\n",
       " array([ 9, 12, 12, 19, 15, 16,  5,  9], dtype=int64),\n",
       " array([ 9, 12, 17, 14, 18,  7, 12, 14], dtype=int64),\n",
       " array([13, 19, 16,  9,  5,  7,  9, 18], dtype=int64),\n",
       " array([17,  9, 15, 12, 19, 13, 18, 19], dtype=int64),\n",
       " array([14, 17, 19,  8, 13,  7,  6, 15], dtype=int64),\n",
       " array([15, 17,  7, 15, 10, 18, 18, 13], dtype=int64),\n",
       " array([15, 13, 16,  7, 16, 12, 16, 12], dtype=int64),\n",
       " array([ 6, 12, 19,  5, 13, 11,  5, 13], dtype=int64),\n",
       " array([16, 19, 12, 13, 19,  9, 16,  7], dtype=int64),\n",
       " array([15, 13,  7, 14, 13, 18, 14, 18], dtype=int64),\n",
       " array([ 6,  6, 12, 12, 13, 16,  9,  7], dtype=int64),\n",
       " array([10, 18,  5, 15, 15,  9,  6,  9], dtype=int64),\n",
       " array([19, 18,  8, 12, 13, 18,  7, 16], dtype=int64),\n",
       " array([18,  9,  6, 13,  6,  6,  6,  8], dtype=int64),\n",
       " array([15, 14, 19, 12,  5,  7,  8, 15], dtype=int64),\n",
       " array([ 9,  6, 15,  5, 11, 16, 12, 15], dtype=int64),\n",
       " array([ 8,  6,  5, 13,  8,  7, 16, 17], dtype=int64),\n",
       " array([12, 12, 19, 12,  7,  8, 19,  5], dtype=int64),\n",
       " array([14, 12, 17, 17, 11, 14, 16, 14], dtype=int64),\n",
       " array([18, 18,  5, 13, 17,  6, 10, 12], dtype=int64),\n",
       " array([15, 19, 10, 16,  6, 12,  5, 11], dtype=int64),\n",
       " array([18, 19,  6, 17, 15,  9, 16, 19], dtype=int64),\n",
       " array([15,  9, 14, 16, 15,  8, 11, 10], dtype=int64),\n",
       " array([11, 11, 13, 13,  6, 18, 11,  7], dtype=int64),\n",
       " array([11, 16,  9, 17,  7,  7, 10, 15], dtype=int64),\n",
       " array([17,  5, 19,  5, 17,  5, 11,  9], dtype=int64),\n",
       " array([14, 19, 11, 12, 12, 16, 12, 18], dtype=int64),\n",
       " array([12,  8, 17,  7, 15, 18,  9,  9], dtype=int64),\n",
       " array([13, 13, 18,  6,  9, 10, 18,  6], dtype=int64),\n",
       " array([12,  5, 11, 14, 11,  9, 13, 19], dtype=int64),\n",
       " array([ 9, 19,  9, 15, 10, 17, 13, 18], dtype=int64),\n",
       " array([13, 12,  5,  6, 15, 14, 13,  6], dtype=int64),\n",
       " array([16, 12,  8, 17, 12, 19,  9, 10], dtype=int64),\n",
       " array([ 7,  9, 10, 15, 16, 16, 11, 14], dtype=int64),\n",
       " array([16,  6,  9, 15,  8,  9, 19,  7], dtype=int64),\n",
       " array([17,  7, 13,  9, 12, 14, 18, 18], dtype=int64),\n",
       " array([ 7, 15,  8,  9, 13,  7, 19, 15], dtype=int64),\n",
       " array([10, 14,  9, 14, 19, 10,  7,  9], dtype=int64),\n",
       " array([13,  5, 14,  7, 14, 18,  7, 16], dtype=int64),\n",
       " array([13, 15,  8, 16, 13, 11,  5,  7], dtype=int64),\n",
       " array([11, 15, 19, 14, 16, 14,  9,  6], dtype=int64),\n",
       " array([ 8,  6, 13, 14, 10, 14, 19, 16], dtype=int64),\n",
       " array([ 6,  7, 10, 13, 15, 15, 18,  7], dtype=int64),\n",
       " array([ 9,  7, 15, 11, 18,  9, 10,  9], dtype=int64),\n",
       " array([17, 17,  9, 13, 18, 12, 18,  8], dtype=int64),\n",
       " array([ 6, 14,  5,  7, 13, 11,  7, 12], dtype=int64),\n",
       " array([19,  6, 16, 11, 11, 10, 17,  8], dtype=int64),\n",
       " array([16, 11, 14,  6, 15,  9,  6,  9], dtype=int64),\n",
       " array([14, 12, 17, 11, 18,  5,  9,  7], dtype=int64),\n",
       " array([19,  7,  7, 11, 17,  5, 17, 16], dtype=int64),\n",
       " array([ 5, 12, 15, 17,  7, 15, 13, 17], dtype=int64),\n",
       " array([16, 17, 15, 10, 18, 13, 17,  6], dtype=int64),\n",
       " array([13, 16, 19,  6, 17, 11, 19, 10], dtype=int64),\n",
       " array([ 8, 10, 19, 19,  6,  7,  5, 19], dtype=int64),\n",
       " array([12, 19, 17,  8, 10, 17, 12,  7], dtype=int64),\n",
       " array([13, 16, 19, 14, 15, 17, 19, 13], dtype=int64),\n",
       " array([15, 19, 11, 17,  9, 16,  6, 18], dtype=int64),\n",
       " array([14,  7, 10,  6, 12, 19,  8,  9], dtype=int64),\n",
       " array([ 7,  7,  8, 13, 12, 13,  5, 15], dtype=int64),\n",
       " array([16, 17,  6,  9, 14,  7, 11, 10], dtype=int64),\n",
       " array([16, 15,  9, 13, 17, 15, 16, 12], dtype=int64),\n",
       " array([11, 14,  9, 11,  8, 12, 15, 16], dtype=int64),\n",
       " array([ 7,  7, 10, 19,  5, 15,  9, 12], dtype=int64),\n",
       " array([17, 18, 12, 16, 12, 15,  8,  9], dtype=int64),\n",
       " array([11, 15, 16, 17,  7, 15,  9, 10], dtype=int64),\n",
       " array([13, 13, 13,  5, 19, 17, 10, 13], dtype=int64),\n",
       " array([14, 18, 18, 18,  5,  5, 16,  7], dtype=int64),\n",
       " array([14,  5, 16,  7, 14, 14,  7, 11], dtype=int64),\n",
       " array([19, 12,  7, 17, 16,  8, 10,  6], dtype=int64),\n",
       " array([13,  5,  7, 11,  6, 16, 16, 15], dtype=int64),\n",
       " array([17, 10, 11,  9,  7,  9, 15, 10], dtype=int64),\n",
       " array([13, 14, 12, 16, 10, 14, 14, 17], dtype=int64),\n",
       " array([13, 13,  5, 10,  9, 14,  9, 13], dtype=int64),\n",
       " array([10, 12,  9,  8, 13, 19, 14, 14], dtype=int64),\n",
       " array([18, 10, 11, 13, 13, 19,  7, 11], dtype=int64),\n",
       " array([17, 13,  6,  7, 18, 11, 19,  6], dtype=int64),\n",
       " array([13,  5, 10, 12,  8,  7, 18, 19], dtype=int64),\n",
       " array([18, 12, 19,  5, 14,  5, 12, 18], dtype=int64),\n",
       " array([ 8, 14,  7,  8, 11, 19, 15, 11], dtype=int64),\n",
       " array([16, 13, 12, 14,  7, 18,  9, 12], dtype=int64),\n",
       " array([ 7,  7, 12,  5, 14, 11,  8, 16], dtype=int64),\n",
       " array([14,  8,  9, 14, 15, 14, 12,  8], dtype=int64),\n",
       " array([18, 16,  9, 17, 13,  8, 16,  7], dtype=int64),\n",
       " array([ 7,  6, 11, 11, 12,  5,  7,  6], dtype=int64),\n",
       " array([ 5, 18,  8,  9, 10, 12, 10, 13], dtype=int64),\n",
       " array([15, 19,  7,  6,  9,  8, 15, 15], dtype=int64),\n",
       " array([19, 18, 19, 11, 13, 11,  9,  9], dtype=int64),\n",
       " array([ 8,  7, 14, 13,  8,  9, 17,  5], dtype=int64),\n",
       " array([13, 15, 13, 13, 16, 14, 14, 18], dtype=int64),\n",
       " array([ 7, 19,  7, 19,  6, 19,  6, 18], dtype=int64),\n",
       " array([13,  7,  6, 17,  8,  5, 11, 10], dtype=int64),\n",
       " array([12,  5,  8,  9, 10, 11,  8, 17], dtype=int64),\n",
       " array([11, 18, 19, 11, 10, 10, 10, 14], dtype=int64),\n",
       " array([14, 16, 14,  9,  6, 11, 13, 18], dtype=int64),\n",
       " array([ 9, 16, 14, 13, 17,  6, 12,  6], dtype=int64),\n",
       " array([ 9, 16, 18, 17, 12, 14, 18,  6], dtype=int64),\n",
       " array([ 9, 16, 19, 12, 11, 15,  8,  9], dtype=int64),\n",
       " array([18, 12,  8, 14,  5, 10, 15, 19], dtype=int64),\n",
       " array([ 6, 14, 15, 15,  7, 13, 10,  6], dtype=int64),\n",
       " array([15, 17,  5, 11,  7, 18, 11, 14], dtype=int64),\n",
       " array([19,  6,  6, 11, 13, 14, 18, 10], dtype=int64),\n",
       " array([15, 13,  8, 16,  7,  5, 16,  8], dtype=int64),\n",
       " array([13, 11, 11,  7,  9, 14, 10, 16], dtype=int64),\n",
       " array([ 7,  7, 15,  8, 10, 18, 18, 18], dtype=int64),\n",
       " array([ 5,  9, 14, 19,  8,  5, 15,  7], dtype=int64),\n",
       " array([ 8,  6, 15,  8, 12, 19, 11,  9], dtype=int64),\n",
       " array([12, 16, 16,  6, 13,  8, 10, 17], dtype=int64),\n",
       " array([11,  8, 18, 17, 14, 11, 16, 10], dtype=int64),\n",
       " array([19,  9, 15, 10, 19, 12, 13, 12], dtype=int64),\n",
       " array([17, 13,  7, 10, 17, 19, 18, 19], dtype=int64),\n",
       " array([11,  5,  6,  9, 13, 11, 11, 19], dtype=int64),\n",
       " array([ 6, 10, 16, 10, 12, 12,  6, 11], dtype=int64),\n",
       " array([11, 10,  5,  8, 15,  9, 19, 11], dtype=int64),\n",
       " array([19,  7, 11, 17, 19, 18,  5, 12], dtype=int64),\n",
       " array([11,  5,  9, 14, 17,  8, 11, 13], dtype=int64),\n",
       " array([16, 19,  9, 13,  8,  5, 15, 11], dtype=int64),\n",
       " array([12,  7, 15,  6,  6, 16, 10, 17], dtype=int64),\n",
       " array([18,  7, 12, 19,  7, 17,  8,  9], dtype=int64),\n",
       " array([12, 17, 17, 14, 11,  9,  9, 16], dtype=int64),\n",
       " array([11,  9, 19, 11, 11, 18, 17,  6], dtype=int64),\n",
       " array([18, 15, 18, 10,  8, 12,  7,  7], dtype=int64),\n",
       " array([18,  9,  7, 18, 13, 15, 13, 15], dtype=int64),\n",
       " array([ 6, 11, 17, 17, 17, 12,  8, 19], dtype=int64),\n",
       " array([15, 11, 18,  9, 19, 15, 17, 15], dtype=int64),\n",
       " array([ 6,  6, 19, 14, 18,  9, 12, 10], dtype=int64),\n",
       " array([ 7, 16, 16, 14, 17, 19,  6, 17], dtype=int64),\n",
       " array([17, 10,  5, 16,  7, 11, 15, 15], dtype=int64),\n",
       " array([13,  6, 19, 12, 11, 11, 19, 16], dtype=int64),\n",
       " array([15,  7, 10, 16, 17,  9, 12, 13], dtype=int64),\n",
       " array([14, 12,  7, 12,  5, 14, 19, 13], dtype=int64),\n",
       " array([10,  6, 10, 17, 14,  8, 16,  8], dtype=int64),\n",
       " array([16,  9, 16, 19, 17, 17,  7, 13], dtype=int64),\n",
       " array([18, 12,  8,  9, 11, 16,  7, 17], dtype=int64),\n",
       " array([ 9, 18,  7,  7, 19, 13, 18, 12], dtype=int64),\n",
       " array([ 8, 17,  6,  6, 14, 18,  8, 16], dtype=int64),\n",
       " array([ 7, 15,  9, 12, 13,  7, 10, 15], dtype=int64),\n",
       " array([ 7, 13,  6,  8, 18, 14, 18,  5], dtype=int64),\n",
       " array([ 6,  9,  7, 11, 10, 15,  5, 11], dtype=int64),\n",
       " array([17,  8,  7,  9, 18, 10,  7, 19], dtype=int64),\n",
       " array([10, 14, 11,  5,  9, 11, 19, 12], dtype=int64),\n",
       " array([ 7,  6, 14, 14, 14, 15,  7, 10], dtype=int64),\n",
       " array([ 8, 15, 11, 17, 11,  8, 19, 19], dtype=int64),\n",
       " array([12, 14,  8,  7, 17, 15, 12, 16], dtype=int64),\n",
       " array([ 6, 12, 10,  8,  9,  8, 13, 11], dtype=int64),\n",
       " array([ 5,  7, 10, 12, 17, 19,  5,  5], dtype=int64),\n",
       " array([10, 18, 10, 17, 11,  6, 18,  7], dtype=int64),\n",
       " array([ 8, 18, 10, 13,  5, 11,  7,  8], dtype=int64),\n",
       " array([17, 18, 14, 12,  8, 13,  6, 11], dtype=int64),\n",
       " array([ 7, 18, 11, 11, 11, 17, 12, 18], dtype=int64),\n",
       " array([ 8,  8,  5,  5,  7,  9, 16, 10], dtype=int64),\n",
       " array([11, 13,  5,  7, 19, 16, 14, 12], dtype=int64),\n",
       " array([13, 16,  9, 11, 11, 15,  5, 14], dtype=int64),\n",
       " array([ 5, 18, 14, 16,  9, 12, 16, 17], dtype=int64),\n",
       " array([ 5, 13, 14,  9, 16, 16,  9,  9], dtype=int64),\n",
       " array([15,  5,  9, 14, 14,  9, 18, 14], dtype=int64),\n",
       " array([ 8, 10,  8, 10, 14, 16, 12, 11], dtype=int64),\n",
       " array([12, 18, 14, 18, 12, 13,  6, 15], dtype=int64),\n",
       " array([11, 13, 17, 10, 17, 10, 16, 16], dtype=int64),\n",
       " array([15,  5, 16, 14,  5, 11, 17, 18], dtype=int64),\n",
       " array([17, 18, 13,  6, 10, 14, 15, 19], dtype=int64),\n",
       " array([14, 15, 16, 17, 19, 13,  8, 12], dtype=int64),\n",
       " array([12, 19, 18, 17, 10, 18, 17, 11], dtype=int64),\n",
       " array([14,  6,  5, 11, 14,  9, 18, 12], dtype=int64),\n",
       " array([17, 12,  7, 13, 12,  5, 13, 15], dtype=int64),\n",
       " array([ 8, 19, 17, 13, 11, 18, 11, 10], dtype=int64),\n",
       " array([16, 13, 16, 10, 13, 10,  7, 11], dtype=int64),\n",
       " array([18,  9, 19, 19,  7, 14, 15, 18], dtype=int64),\n",
       " array([ 9, 13, 11, 12, 13, 14, 10,  8], dtype=int64),\n",
       " array([19, 13, 16,  5,  6, 10,  5,  5], dtype=int64),\n",
       " array([12, 12, 14, 17,  6, 16,  8, 15], dtype=int64),\n",
       " array([19, 17, 14, 10,  9, 17,  7,  9], dtype=int64),\n",
       " array([15, 19, 13, 18, 11, 18, 14, 16], dtype=int64),\n",
       " array([18,  7, 10,  9, 17, 15,  7, 15], dtype=int64),\n",
       " array([15, 13, 16, 18,  6, 14,  6, 18], dtype=int64),\n",
       " array([19, 10, 14, 13,  6, 12, 12, 14], dtype=int64),\n",
       " array([ 6,  5, 16, 15,  6, 18, 15,  7], dtype=int64),\n",
       " array([19, 12,  5, 15, 19, 10, 17,  5], dtype=int64),\n",
       " array([19,  9, 12,  8, 16, 10, 12, 18], dtype=int64),\n",
       " array([19, 13,  5,  6,  9, 14, 18,  7], dtype=int64),\n",
       " array([17, 13, 15,  9, 19, 14, 14, 17], dtype=int64),\n",
       " array([15, 13, 12, 16,  9, 15, 17, 10], dtype=int64),\n",
       " array([14,  8, 19,  6, 15, 11, 10, 13], dtype=int64),\n",
       " array([ 7, 17, 11, 17, 16,  6,  8,  9], dtype=int64),\n",
       " array([16, 12,  9, 16,  6,  5, 15, 16], dtype=int64),\n",
       " array([13, 14,  7, 10,  7, 13, 15,  5], dtype=int64),\n",
       " array([13, 13, 17, 16,  6,  6, 10,  6], dtype=int64),\n",
       " array([ 8, 10, 16,  5, 12, 17, 16, 12], dtype=int64),\n",
       " array([11, 13, 14, 19, 17, 15,  9, 14], dtype=int64),\n",
       " array([11,  5,  9,  8, 14,  5,  9,  5], dtype=int64),\n",
       " array([13,  8,  7, 16,  6,  6, 18, 19], dtype=int64),\n",
       " array([17,  6, 11, 19, 12, 15, 18, 15], dtype=int64),\n",
       " array([13,  6,  6, 17, 17, 17, 11, 11], dtype=int64),\n",
       " array([17,  7, 18,  6,  9, 12,  5, 13], dtype=int64),\n",
       " array([12,  7, 14, 12, 18, 12, 12, 10], dtype=int64),\n",
       " array([14,  8,  8,  9, 13, 13, 11, 16], dtype=int64),\n",
       " array([11, 15,  5,  7,  7, 18,  6, 13], dtype=int64),\n",
       " array([13, 15, 16, 13, 14, 14,  8, 11], dtype=int64),\n",
       " array([ 6,  7,  9, 12, 12, 15, 12,  8], dtype=int64),\n",
       " array([14, 17, 19, 11, 16, 17, 14,  8], dtype=int64),\n",
       " array([19, 14,  6, 11, 16, 12,  5,  9], dtype=int64),\n",
       " array([11, 18, 10, 10, 18, 18,  5, 18], dtype=int64),\n",
       " array([17,  7, 10, 11, 17, 19, 11, 13], dtype=int64),\n",
       " array([ 5, 17, 19, 17,  8,  7, 13, 17], dtype=int64),\n",
       " array([12, 11, 16, 18,  9, 13,  8, 17], dtype=int64),\n",
       " array([ 9, 14,  8,  7,  5, 10, 10, 17], dtype=int64),\n",
       " array([12,  8, 10,  6, 10, 11, 17, 18], dtype=int64),\n",
       " array([ 9, 19, 18,  9, 17, 16, 10,  9], dtype=int64),\n",
       " array([16, 11,  5,  7,  6, 17,  8, 14], dtype=int64),\n",
       " array([11,  9,  8, 12, 17,  6, 17, 13], dtype=int64),\n",
       " array([ 6, 19,  7, 10, 17, 13,  8, 18], dtype=int64),\n",
       " array([12, 14, 19,  7,  7,  5,  6, 17], dtype=int64),\n",
       " array([10,  8, 17, 12, 16, 12,  8,  7], dtype=int64),\n",
       " array([ 5,  7, 14, 12, 15, 10,  9, 17], dtype=int64),\n",
       " array([12, 18, 13, 15, 10,  5, 16, 12], dtype=int64),\n",
       " array([10, 15, 19, 16, 17, 10, 13,  6], dtype=int64),\n",
       " array([17, 12, 10, 13, 15, 19, 19,  9], dtype=int64),\n",
       " array([19, 18, 14,  5,  5, 14,  6,  6], dtype=int64),\n",
       " array([18,  9, 19, 13,  5, 14,  6, 10], dtype=int64),\n",
       " array([19, 15,  9, 19,  5, 16, 15, 13], dtype=int64),\n",
       " array([13,  8,  5, 15, 16,  8, 10, 18], dtype=int64),\n",
       " array([18, 13, 12, 10, 13, 14,  5,  5], dtype=int64),\n",
       " array([ 7, 19, 13,  9, 14, 10,  6, 19], dtype=int64),\n",
       " array([19, 17,  9,  9, 14, 12,  6, 18], dtype=int64),\n",
       " array([15, 19,  8, 19, 19, 13, 10, 14], dtype=int64),\n",
       " array([ 6, 11,  6, 16, 13, 18, 12, 18], dtype=int64),\n",
       " array([17, 15,  9,  8, 18, 18,  7,  7], dtype=int64),\n",
       " array([ 5, 14, 18, 16,  6,  5, 18,  9], dtype=int64),\n",
       " array([10, 16, 17, 18,  5,  9, 18, 13], dtype=int64),\n",
       " array([18, 14,  5, 19, 17,  5, 19, 13], dtype=int64),\n",
       " array([ 8,  6, 15,  6, 17,  9,  8, 14], dtype=int64),\n",
       " array([17,  7, 16, 12, 14,  6, 12,  9], dtype=int64),\n",
       " array([10,  6, 15, 15,  9, 14, 12, 14], dtype=int64),\n",
       " array([15, 16, 14,  9, 18,  5, 14,  8], dtype=int64),\n",
       " array([13, 13, 18, 14, 14, 12, 14, 13], dtype=int64),\n",
       " array([14, 12, 18,  9, 13, 10, 14, 19], dtype=int64),\n",
       " array([ 7, 16,  6, 12,  9,  9, 14, 10], dtype=int64),\n",
       " array([10, 15, 11, 15, 19, 11, 14, 17], dtype=int64),\n",
       " array([ 9, 11, 14, 13, 13,  7,  6, 12], dtype=int64),\n",
       " array([ 5, 13,  7, 19, 16, 16, 15, 12], dtype=int64),\n",
       " array([ 7,  8,  9, 15,  5, 19, 13, 10], dtype=int64),\n",
       " array([14, 14, 16, 12,  5, 11, 16, 10], dtype=int64),\n",
       " array([ 5,  7, 19, 16,  6, 19,  5, 13], dtype=int64),\n",
       " array([14,  7,  9, 16, 19,  7, 18, 10], dtype=int64),\n",
       " array([ 5, 14, 18, 10,  9,  6, 17, 11], dtype=int64),\n",
       " array([17, 15, 15,  8, 18, 12,  8, 16], dtype=int64),\n",
       " array([15, 19, 17, 16, 13,  7, 14, 10], dtype=int64),\n",
       " array([19,  7, 19, 15, 13,  5, 17, 16], dtype=int64),\n",
       " array([ 5,  8, 14, 10, 13, 14,  6, 18], dtype=int64),\n",
       " array([ 6, 16, 11, 13, 19, 15, 15, 15], dtype=int64),\n",
       " array([ 8, 19, 18, 15,  9,  5, 13, 17], dtype=int64),\n",
       " array([16, 19,  7, 14, 12, 11, 19, 13], dtype=int64),\n",
       " array([ 5,  9,  8, 16, 19, 12,  6, 16], dtype=int64),\n",
       " array([16, 13, 10, 16,  5, 17,  7, 17], dtype=int64),\n",
       " array([16,  8, 10, 19, 13,  9, 17, 12], dtype=int64),\n",
       " array([18,  6, 13, 11, 13,  9,  9,  5], dtype=int64),\n",
       " array([12, 18, 10, 18, 18, 12, 10,  6], dtype=int64),\n",
       " array([12, 13,  8,  9, 13, 12, 14, 10], dtype=int64),\n",
       " array([ 8, 10,  6, 16,  5,  5,  8, 15], dtype=int64),\n",
       " array([19,  7, 17,  6,  8, 10, 17,  8], dtype=int64),\n",
       " array([ 5,  8,  5,  8, 19, 14,  8, 16], dtype=int64),\n",
       " array([ 8, 14, 15, 13,  5, 10, 16, 15], dtype=int64),\n",
       " array([19, 14, 10, 19, 10, 10, 12,  5], dtype=int64),\n",
       " array([11,  7, 16, 10, 13, 15,  6,  5], dtype=int64),\n",
       " array([ 7, 18, 17,  6,  9, 19, 13,  8], dtype=int64),\n",
       " array([ 6, 13, 17,  5, 10,  8, 15, 11], dtype=int64),\n",
       " array([12, 17,  6,  6, 11,  7, 16, 14], dtype=int64),\n",
       " array([11, 10,  8, 12, 13, 16, 17,  8], dtype=int64),\n",
       " array([ 7, 13, 19, 13, 18, 11, 18, 14], dtype=int64),\n",
       " array([14,  5,  7, 16, 17, 16, 11, 19], dtype=int64),\n",
       " array([ 5,  7, 17,  6, 10, 11, 14, 14], dtype=int64),\n",
       " array([15,  8,  5, 19, 17,  5,  5,  6], dtype=int64),\n",
       " array([12, 12, 15,  7, 18,  5, 17, 11], dtype=int64),\n",
       " array([ 7, 11, 13, 11,  5, 13, 16, 15], dtype=int64),\n",
       " array([18,  7, 13, 15, 18, 19, 11,  5], dtype=int64),\n",
       " array([18, 19, 15,  6, 19, 15, 19, 18], dtype=int64),\n",
       " array([18, 12, 18, 17,  9, 13, 11,  9], dtype=int64),\n",
       " array([17, 19,  7,  8,  8, 14, 16, 16], dtype=int64),\n",
       " array([ 7, 10, 18,  5, 12, 17, 19,  6], dtype=int64),\n",
       " array([ 6, 19,  7,  7,  9, 17, 12, 17], dtype=int64),\n",
       " array([19, 15, 14, 10, 10, 11, 13, 16], dtype=int64),\n",
       " array([17, 19, 15, 15, 17, 10, 10, 18], dtype=int64),\n",
       " array([15, 17,  9, 10, 18,  7,  9, 15], dtype=int64),\n",
       " array([15,  5, 10, 15, 18,  6, 13,  5], dtype=int64),\n",
       " array([14, 12, 19, 17,  5, 17, 16,  8], dtype=int64),\n",
       " array([17, 17,  5,  5,  5,  7, 19, 19], dtype=int64),\n",
       " array([13, 11,  6, 14,  5, 19, 11, 12], dtype=int64),\n",
       " array([19, 12, 17, 15, 17,  7, 10,  9], dtype=int64),\n",
       " array([ 5, 10, 19, 16, 11, 17, 15,  6], dtype=int64),\n",
       " array([13,  7, 10,  7,  7,  5, 10, 15], dtype=int64),\n",
       " array([19,  6,  6,  6,  7, 11, 17, 14], dtype=int64),\n",
       " array([ 9, 19, 19, 10, 13, 11,  9,  9], dtype=int64),\n",
       " array([17, 17,  7, 11, 10, 19, 14, 16], dtype=int64),\n",
       " array([ 5, 17, 13,  6, 19, 17, 15, 16], dtype=int64),\n",
       " array([12, 17, 13, 18, 11,  9,  5, 19], dtype=int64),\n",
       " array([ 7, 18, 10, 13, 19,  6, 19, 13], dtype=int64),\n",
       " array([14, 13, 17, 19, 13,  5,  8, 14], dtype=int64),\n",
       " array([ 7,  9,  7, 15, 17, 15, 18, 18], dtype=int64),\n",
       " array([16,  6, 10,  8,  5, 12, 14, 15], dtype=int64),\n",
       " array([ 9,  5, 10,  5, 19, 13,  8, 16], dtype=int64),\n",
       " array([ 6, 15,  9,  6, 10,  5, 18,  6], dtype=int64),\n",
       " array([15, 11, 12, 18, 16, 15, 14, 15], dtype=int64),\n",
       " array([15,  6, 13, 11, 12, 13, 19, 16], dtype=int64),\n",
       " array([10, 11, 17,  6, 17,  7, 11, 19], dtype=int64),\n",
       " array([19, 14,  5, 12,  6,  7, 15, 18], dtype=int64),\n",
       " array([15, 14, 14,  8, 19, 10, 12,  9], dtype=int64),\n",
       " array([ 8,  8, 16, 19,  9, 10, 18,  5], dtype=int64),\n",
       " array([11, 18,  5,  7,  6,  9,  7, 19], dtype=int64),\n",
       " array([ 5,  5, 17, 15,  7, 19, 12, 17], dtype=int64),\n",
       " array([11,  6, 18, 10, 12, 12, 11, 14], dtype=int64),\n",
       " array([10,  9,  8,  5, 18, 14,  5,  5], dtype=int64),\n",
       " array([19,  7, 19,  8, 19, 15,  8, 16], dtype=int64),\n",
       " array([12, 15,  5, 19,  8, 11,  8, 19], dtype=int64),\n",
       " array([ 7, 11,  5, 16, 18, 18, 14, 10], dtype=int64),\n",
       " array([18, 19, 15, 12, 14, 10, 11, 10], dtype=int64),\n",
       " array([ 5,  9,  5,  9, 12, 12,  7, 11], dtype=int64),\n",
       " array([ 8, 16,  6,  5, 19, 14, 13, 13], dtype=int64),\n",
       " array([ 9, 17, 10, 12, 18, 17,  9,  7], dtype=int64),\n",
       " array([ 7, 12,  8, 16, 17, 15, 16, 12], dtype=int64),\n",
       " array([ 5, 19, 13, 17, 10, 10,  9, 13], dtype=int64),\n",
       " array([19, 11, 15,  9,  7, 11, 13, 15], dtype=int64),\n",
       " array([14, 12, 12, 12,  5, 16, 19, 11], dtype=int64),\n",
       " array([14, 11,  5, 14, 16,  9, 19, 11], dtype=int64),\n",
       " array([16, 17, 14, 12, 14, 16, 17, 12], dtype=int64),\n",
       " array([ 6,  9,  5, 11, 10, 16, 17,  9], dtype=int64),\n",
       " array([17,  6, 14,  5,  5, 12, 19,  8], dtype=int64),\n",
       " array([14, 15,  9, 13, 11, 10,  7,  8], dtype=int64),\n",
       " array([ 6, 13, 11, 12,  9,  6,  6, 17], dtype=int64),\n",
       " array([15, 18,  7, 18,  6,  6,  7,  7], dtype=int64),\n",
       " array([ 7,  8, 10,  8,  6, 14, 14,  6], dtype=int64),\n",
       " array([ 8, 13, 18, 11,  6,  5,  8, 13], dtype=int64),\n",
       " array([ 6, 16, 12, 11, 10, 19, 10,  9], dtype=int64),\n",
       " array([13,  8,  8, 18, 11, 11,  8, 19], dtype=int64),\n",
       " array([19,  7,  5, 18, 17, 18,  9, 16], dtype=int64),\n",
       " array([18, 19,  9, 10,  5, 12, 18, 12], dtype=int64),\n",
       " array([18,  5, 10, 16, 14,  9, 12, 19], dtype=int64),\n",
       " array([19,  6, 14, 19, 18, 14, 10,  5], dtype=int64),\n",
       " array([16, 15,  8, 13, 16,  5,  8, 10], dtype=int64),\n",
       " array([ 5,  6,  9, 19, 12,  7, 10, 14], dtype=int64),\n",
       " array([ 8,  5, 15, 19, 16,  8,  5,  6], dtype=int64),\n",
       " array([14, 12, 15, 12,  9,  5, 18, 14], dtype=int64),\n",
       " array([15,  7, 18, 17,  6, 11,  6, 13], dtype=int64),\n",
       " array([16, 11, 12, 14, 18,  5,  8,  6], dtype=int64),\n",
       " array([ 5,  7, 11,  8, 11, 14, 16, 14], dtype=int64),\n",
       " array([10, 13,  5, 18, 11,  6,  9,  5], dtype=int64),\n",
       " array([14, 13, 11, 18, 11, 15, 15,  6], dtype=int64),\n",
       " array([12, 13, 19, 18, 12,  9,  7, 14], dtype=int64),\n",
       " array([14, 16, 18, 16, 16, 14, 17, 17], dtype=int64),\n",
       " array([11, 14, 10,  5, 18, 12,  6,  7], dtype=int64),\n",
       " array([16,  7, 11, 10, 18, 17,  8,  6], dtype=int64),\n",
       " array([10,  5, 14, 18,  9, 15, 17, 15], dtype=int64),\n",
       " array([16, 13,  7, 10, 19,  6, 13,  9], dtype=int64),\n",
       " array([17,  9,  9, 12, 10,  5, 18, 15], dtype=int64),\n",
       " array([13, 13, 19,  6, 17,  8, 16, 16], dtype=int64),\n",
       " array([10, 10, 18, 19, 10,  5, 19, 16], dtype=int64),\n",
       " array([11,  9, 16, 13, 17, 17, 15,  8], dtype=int64),\n",
       " array([ 9, 18, 11, 11, 10, 14, 19,  5], dtype=int64),\n",
       " array([ 8, 13, 15, 19, 12, 11, 17, 15], dtype=int64),\n",
       " array([ 7, 14, 17, 14,  9, 15, 12, 12], dtype=int64),\n",
       " array([11,  7, 16, 17, 17, 15,  7,  5], dtype=int64),\n",
       " array([16, 12, 14, 11, 19, 10, 18, 12], dtype=int64),\n",
       " array([13,  6, 10, 11, 10, 10, 13, 12], dtype=int64),\n",
       " array([ 8, 16,  9,  5,  5, 15, 16, 18], dtype=int64),\n",
       " array([ 7, 15, 10,  9, 10, 17,  5,  8], dtype=int64),\n",
       " array([ 6,  5, 16, 16,  8, 13,  7, 15], dtype=int64),\n",
       " array([16,  5, 11, 13,  6,  5, 18, 11], dtype=int64),\n",
       " array([11, 19,  6, 16,  6,  5, 13, 10], dtype=int64),\n",
       " array([19, 15,  9, 10,  6,  8, 11, 19], dtype=int64),\n",
       " array([ 5, 12, 14,  9,  5, 16, 10,  7], dtype=int64),\n",
       " array([12,  6, 13, 16, 12, 13, 14,  6], dtype=int64),\n",
       " array([19,  9,  6, 11, 12, 11,  5, 13], dtype=int64),\n",
       " array([17, 12, 18, 17,  8, 15,  9, 10], dtype=int64),\n",
       " array([ 7, 15,  5, 11,  9,  9,  5,  5], dtype=int64),\n",
       " array([11, 14,  7,  8, 18, 10,  6,  5], dtype=int64),\n",
       " array([18, 17, 17, 12,  6,  6, 15, 17], dtype=int64),\n",
       " array([15, 17, 17,  7,  8,  7, 10, 19], dtype=int64),\n",
       " array([ 8, 19, 11, 16,  7, 15,  9, 12], dtype=int64),\n",
       " array([18, 14, 13, 12,  6, 19, 19, 17], dtype=int64),\n",
       " array([16,  8,  9,  9,  9, 10, 11,  5], dtype=int64),\n",
       " array([11,  7, 19,  7, 19, 10, 11, 10], dtype=int64),\n",
       " array([19, 11, 14,  8, 18,  7,  6,  8], dtype=int64),\n",
       " array([ 7, 17, 10, 11, 10, 13, 10,  9], dtype=int64),\n",
       " array([11,  7,  6,  9, 19, 13, 13,  7], dtype=int64),\n",
       " array([ 5, 17, 17, 11, 15, 14, 11,  7], dtype=int64),\n",
       " array([10,  8, 12,  8, 12, 12, 17, 18], dtype=int64),\n",
       " array([ 5,  9,  8,  9, 16,  9, 13, 12], dtype=int64),\n",
       " array([ 8, 13,  5,  9,  7,  6, 13, 18], dtype=int64),\n",
       " array([ 9,  9, 11,  8, 17,  6,  7,  7], dtype=int64),\n",
       " array([ 8, 12, 17, 10,  8,  7, 17, 10], dtype=int64),\n",
       " array([ 7, 19,  5, 16, 13,  6, 14, 19], dtype=int64),\n",
       " array([17, 16, 11,  6, 11,  9,  5, 17], dtype=int64),\n",
       " array([19, 15, 16,  6,  7, 19, 13,  5], dtype=int64),\n",
       " array([19,  6,  9,  6, 11, 13, 13, 16], dtype=int64),\n",
       " array([ 8,  8, 15,  5, 12, 17,  8, 19], dtype=int64),\n",
       " array([ 6, 14, 17, 17, 15, 19, 16, 14], dtype=int64),\n",
       " array([13,  5,  9, 15, 11, 19, 12, 14], dtype=int64),\n",
       " array([ 8, 18, 13,  7,  6,  8, 15, 11], dtype=int64),\n",
       " array([10, 11,  6,  5, 13,  5, 13, 15], dtype=int64),\n",
       " array([15,  9, 13, 11,  8, 18, 14,  8], dtype=int64),\n",
       " array([11, 14, 13, 13, 13, 10,  7,  8], dtype=int64),\n",
       " array([15, 14,  7,  9,  7, 12, 14,  5], dtype=int64),\n",
       " array([ 6,  6, 17,  8, 18,  6, 19, 18], dtype=int64),\n",
       " array([ 5, 17, 10,  8,  7,  7, 12, 16], dtype=int64),\n",
       " array([ 8, 15, 19, 10, 13,  7, 18, 15], dtype=int64),\n",
       " array([13,  9, 15, 16,  5, 10,  7, 13], dtype=int64),\n",
       " array([ 6, 11,  7, 13, 15, 13, 12, 13], dtype=int64),\n",
       " array([13,  8, 11,  9,  9,  7, 12,  7], dtype=int64),\n",
       " array([19, 16,  5, 19, 11,  5, 17, 16], dtype=int64),\n",
       " array([ 8, 11, 10,  9,  5, 16, 19, 10], dtype=int64),\n",
       " array([11,  6,  8,  9, 11, 19, 14,  5], dtype=int64),\n",
       " array([18, 10,  9,  5,  6, 13, 14,  8], dtype=int64),\n",
       " array([16, 10, 14, 10,  5,  8, 13,  9], dtype=int64),\n",
       " array([ 6, 18, 12, 18, 10, 14,  7, 18], dtype=int64),\n",
       " array([18, 18,  9, 17,  9,  7, 11, 18], dtype=int64),\n",
       " array([11, 17, 18, 17,  6,  9, 19, 18], dtype=int64),\n",
       " array([ 5, 16, 11, 15, 18, 16, 11,  8], dtype=int64),\n",
       " array([16, 10, 12,  6,  5, 11,  6, 15], dtype=int64),\n",
       " array([19, 17,  9, 11, 18,  9, 19, 13], dtype=int64),\n",
       " array([ 9,  7,  9, 16,  7, 11, 10, 19], dtype=int64),\n",
       " array([ 8, 13,  8, 10,  7,  5, 14,  8], dtype=int64),\n",
       " array([12, 12,  9,  8, 18, 18,  5,  7], dtype=int64),\n",
       " array([17, 17, 19, 18, 14, 12,  6, 11], dtype=int64),\n",
       " array([ 5,  8, 11,  9, 14, 10, 10, 19], dtype=int64),\n",
       " array([ 9, 12, 19,  7, 10, 13,  6, 11], dtype=int64),\n",
       " array([19, 13,  7, 13, 14, 18,  7,  7], dtype=int64),\n",
       " array([ 6, 16, 18, 12, 14, 10, 19, 18], dtype=int64),\n",
       " array([18,  5, 10, 10,  6, 16, 10,  5], dtype=int64),\n",
       " array([17, 16, 12, 14, 14, 12, 16,  5], dtype=int64),\n",
       " array([19, 13,  5, 17, 12,  6, 11,  5], dtype=int64),\n",
       " array([13, 18, 19, 10, 10, 13, 15,  6], dtype=int64),\n",
       " array([ 5, 15, 17, 13,  6, 11,  7, 14], dtype=int64),\n",
       " array([10,  8,  6, 16,  8,  6, 17,  5], dtype=int64),\n",
       " array([10, 12, 18, 16,  7, 13,  5,  6], dtype=int64),\n",
       " array([10, 11, 12, 11,  7,  8,  7, 15], dtype=int64),\n",
       " array([17, 14, 11,  9, 18,  9, 15, 10], dtype=int64),\n",
       " array([ 6, 19, 19, 10, 17, 14,  9,  7], dtype=int64),\n",
       " array([12, 12,  8, 17, 14, 11,  9, 12], dtype=int64),\n",
       " array([ 6,  6,  5, 13, 13,  7, 14,  9], dtype=int64),\n",
       " array([17, 14, 12,  7,  6, 17, 15, 18], dtype=int64),\n",
       " array([13,  6, 13, 12,  7, 11, 16, 13], dtype=int64),\n",
       " array([11, 17, 14, 14, 15,  6, 19, 19], dtype=int64),\n",
       " array([ 6, 11,  8, 15, 19, 18, 16,  5], dtype=int64),\n",
       " array([ 5, 12, 19, 17, 13, 17,  5, 10], dtype=int64),\n",
       " array([10,  6, 12,  6, 11, 11, 15, 14], dtype=int64),\n",
       " array([17, 11, 17,  5, 10, 10, 19,  5], dtype=int64),\n",
       " array([12, 15,  5,  8,  5, 15, 10, 12], dtype=int64),\n",
       " array([ 5, 12,  5, 13,  9, 12,  6,  6], dtype=int64),\n",
       " array([18, 11,  7, 14, 19, 14,  5,  5], dtype=int64),\n",
       " array([11,  7, 15,  5, 18,  5, 19, 17], dtype=int64),\n",
       " array([ 7, 13, 17, 19,  6,  5, 19, 19], dtype=int64),\n",
       " array([11,  8, 17, 12,  7,  8, 19,  8], dtype=int64),\n",
       " array([13, 14, 18,  7, 19, 11,  6, 13], dtype=int64),\n",
       " array([11,  8, 18,  5, 13,  7,  6,  8], dtype=int64),\n",
       " array([15,  9, 19,  7, 11, 14,  6, 17], dtype=int64),\n",
       " array([ 9, 11, 12, 12, 19,  5, 11, 14], dtype=int64),\n",
       " array([ 9, 13, 13, 15, 12, 14,  7,  5], dtype=int64),\n",
       " array([19, 17, 11, 17, 15, 10, 13,  6], dtype=int64),\n",
       " array([ 6, 19,  5, 16, 17, 15, 13,  9], dtype=int64),\n",
       " array([ 7,  6,  6, 19, 13, 15,  8,  6], dtype=int64),\n",
       " array([11, 16, 15, 14, 11,  9,  6,  6], dtype=int64),\n",
       " array([ 9, 10,  7,  5, 13,  7, 11,  6], dtype=int64),\n",
       " array([19, 10, 14, 11, 10, 11, 14,  9], dtype=int64),\n",
       " array([16, 19, 12, 14,  5, 18, 11,  7], dtype=int64),\n",
       " array([16, 13, 16, 17,  6, 16,  8,  6], dtype=int64),\n",
       " array([12, 13, 11,  5, 11, 17, 10,  5], dtype=int64),\n",
       " array([16,  6, 19,  5,  6, 14, 10,  8], dtype=int64),\n",
       " array([10, 18, 18, 12,  7, 15, 17, 16], dtype=int64),\n",
       " array([15,  7, 19, 19,  9, 14, 15,  8], dtype=int64),\n",
       " array([16, 16, 10,  5, 12,  8, 10, 17], dtype=int64),\n",
       " array([ 8, 17, 15, 15, 13,  8, 19, 12], dtype=int64),\n",
       " array([ 5,  8, 17,  9,  8,  5,  9, 13], dtype=int64),\n",
       " array([18,  7, 14, 15,  6,  5, 12, 13], dtype=int64),\n",
       " array([16,  5, 13, 10, 19,  9, 13,  5], dtype=int64),\n",
       " array([15,  9, 18, 14, 14, 15, 18, 11], dtype=int64),\n",
       " array([19, 13, 15, 12, 14,  6,  9, 16], dtype=int64),\n",
       " array([11,  8, 10, 12, 13, 11,  6, 12], dtype=int64),\n",
       " array([10, 18, 15,  5, 17, 17,  7, 17], dtype=int64),\n",
       " array([16, 11, 18, 19,  7, 15,  9, 14], dtype=int64),\n",
       " array([11, 16, 16, 11,  5, 15, 14, 13], dtype=int64),\n",
       " array([19, 10, 14, 11, 17,  9,  8, 11], dtype=int64),\n",
       " array([14,  8,  5, 14,  5,  8, 12, 17], dtype=int64),\n",
       " array([10,  8, 17, 11,  8, 13,  6, 16], dtype=int64),\n",
       " array([ 8,  7, 18, 10, 17, 13, 13, 19], dtype=int64),\n",
       " array([12, 11,  5,  5, 14, 19, 17,  7], dtype=int64),\n",
       " array([18,  6, 12, 15,  9, 18,  6,  5], dtype=int64),\n",
       " array([ 9, 10,  7,  6,  8,  6, 10, 12], dtype=int64),\n",
       " array([ 7,  7,  9, 13, 19, 16, 15, 11], dtype=int64),\n",
       " array([18, 19,  5,  7, 10, 18, 15,  6], dtype=int64),\n",
       " array([15, 13,  9, 14, 17, 18, 18, 13], dtype=int64),\n",
       " array([ 5, 10,  5, 10, 19, 19, 19, 17], dtype=int64),\n",
       " array([18, 14, 15, 16,  5, 17, 11, 16], dtype=int64),\n",
       " array([ 9,  6, 19, 10, 18, 18,  9,  9], dtype=int64),\n",
       " array([16,  5,  9,  9, 11,  8,  7, 19], dtype=int64),\n",
       " array([11, 19, 10, 14, 16, 18, 16, 10], dtype=int64),\n",
       " array([19,  6, 17, 10, 15,  7,  6,  7], dtype=int64),\n",
       " array([ 8, 17,  9, 10, 15, 12, 13,  6], dtype=int64),\n",
       " array([ 9, 13, 10,  6, 10, 10, 16, 12], dtype=int64),\n",
       " array([ 9, 11, 18,  7, 10, 18, 16,  7], dtype=int64),\n",
       " array([14, 18, 12, 12, 10, 14,  7, 16], dtype=int64),\n",
       " array([ 6, 18, 17,  8, 12, 19,  9, 12], dtype=int64),\n",
       " array([15, 13, 12, 12,  7, 18,  6,  9], dtype=int64),\n",
       " array([ 8,  5, 13, 11,  9, 10, 12, 15], dtype=int64),\n",
       " array([11,  8, 12, 13,  7,  9, 15,  6], dtype=int64),\n",
       " array([10, 16, 12, 15, 16, 14,  7,  5], dtype=int64),\n",
       " array([17,  6, 14, 15, 14, 11, 17, 15], dtype=int64),\n",
       " array([ 9, 13, 15, 19, 14, 17,  9, 18], dtype=int64),\n",
       " array([12, 11,  6, 12, 14, 19, 17, 11], dtype=int64),\n",
       " array([14, 11,  9,  9, 12,  7,  9, 17], dtype=int64),\n",
       " array([15,  5, 13, 10, 17, 11,  8, 17], dtype=int64),\n",
       " array([ 7, 19,  8, 17, 10, 15, 11, 17], dtype=int64),\n",
       " array([10, 12, 10, 15,  5, 10, 15,  8], dtype=int64),\n",
       " array([ 5, 11,  5, 18,  5, 17,  5, 16], dtype=int64),\n",
       " array([10, 16, 16,  8, 14, 17, 19,  7], dtype=int64),\n",
       " array([12, 16,  6, 11, 19,  8, 14,  5], dtype=int64),\n",
       " array([18, 17,  5, 12, 17, 18, 10,  9], dtype=int64),\n",
       " array([11,  9, 17, 14, 15, 10, 18, 10], dtype=int64),\n",
       " array([14, 12, 16, 15,  7, 13,  6, 18], dtype=int64),\n",
       " array([15,  7,  6,  8,  8, 18, 19, 18], dtype=int64),\n",
       " array([14, 15, 18,  6,  9, 18,  6, 11], dtype=int64),\n",
       " array([16, 18,  6,  5, 10, 18, 15, 11], dtype=int64),\n",
       " array([16, 17, 12,  9,  6, 18, 16, 15], dtype=int64),\n",
       " array([10, 19,  7, 12,  6, 14, 19,  5], dtype=int64),\n",
       " array([ 7, 18, 17, 18,  5, 19,  5, 16], dtype=int64),\n",
       " array([13,  7,  5, 16,  6, 14, 19, 16], dtype=int64),\n",
       " array([16, 18,  5,  6,  8, 17, 18,  9], dtype=int64),\n",
       " array([11, 15, 14, 19, 13, 18,  6, 18], dtype=int64),\n",
       " array([11, 17, 13,  9,  6,  8,  5, 11], dtype=int64),\n",
       " array([ 5,  8,  9, 10, 13,  8, 16, 12], dtype=int64),\n",
       " array([18, 14,  8,  5,  6,  5, 19, 13], dtype=int64),\n",
       " array([ 5, 10, 15, 12, 11,  6, 12,  9], dtype=int64),\n",
       " array([ 5, 13,  7, 12, 12, 16,  6, 13], dtype=int64),\n",
       " array([ 8, 13, 14, 17, 15,  8,  6, 10], dtype=int64),\n",
       " array([ 9, 15,  9, 16, 19, 15, 11, 17], dtype=int64),\n",
       " array([13,  7,  6, 11,  5, 12,  5, 14], dtype=int64),\n",
       " array([15, 12, 10, 15,  7, 10, 19, 13], dtype=int64),\n",
       " array([18,  6,  8, 13, 16,  8,  6, 17], dtype=int64),\n",
       " array([15, 15, 13, 15,  5,  7, 11, 15], dtype=int64),\n",
       " array([ 8, 16, 12, 10,  6, 19, 16, 11], dtype=int64),\n",
       " array([ 6,  5, 11,  5, 17,  6,  7,  9], dtype=int64),\n",
       " array([13, 19, 14,  6,  7, 10, 19, 11], dtype=int64),\n",
       " array([12, 16, 13, 14, 15,  9, 10,  8], dtype=int64),\n",
       " array([ 7, 10,  9,  5, 13, 12, 13, 18], dtype=int64),\n",
       " array([ 6, 15, 11,  9, 18, 13, 17, 11], dtype=int64),\n",
       " array([19, 15, 14,  5, 10, 11, 19, 18], dtype=int64),\n",
       " array([15,  7, 10, 18, 13,  7, 14, 14], dtype=int64),\n",
       " array([12, 13, 16, 17,  9, 16,  5, 19], dtype=int64),\n",
       " array([10, 11, 12,  5, 14,  9,  5, 14], dtype=int64),\n",
       " array([10, 12, 13,  9, 19, 14,  9, 15], dtype=int64),\n",
       " array([15, 10, 18, 11, 11,  5, 15,  6], dtype=int64),\n",
       " array([ 6, 14,  5,  6,  9, 16, 11, 17], dtype=int64),\n",
       " array([ 7, 12, 18, 16, 12, 10, 18, 16], dtype=int64),\n",
       " array([ 8, 10,  9, 15, 12, 18,  5, 19], dtype=int64),\n",
       " array([ 8, 17, 16, 17, 10, 19,  6,  8], dtype=int64),\n",
       " array([ 7,  7, 19, 15, 15, 13, 11,  7], dtype=int64),\n",
       " array([14, 16,  7,  7, 13,  8, 10,  8], dtype=int64),\n",
       " array([11, 12,  7, 17, 18, 10, 11, 11], dtype=int64),\n",
       " array([ 9, 15, 15, 17, 18,  6,  6, 11], dtype=int64),\n",
       " array([11, 13,  5, 17, 18, 12, 11, 14], dtype=int64),\n",
       " array([ 9, 14, 14, 18, 17,  5,  6, 15], dtype=int64),\n",
       " array([12,  6, 13, 16, 12, 12, 16, 14], dtype=int64),\n",
       " array([10, 19, 12, 16,  7,  8, 17,  7], dtype=int64),\n",
       " array([ 9, 14, 16, 15, 13,  9,  9,  6], dtype=int64),\n",
       " array([ 7, 13,  7, 16, 12, 15, 10,  8], dtype=int64),\n",
       " array([15, 18,  6,  8, 13,  5, 13,  9], dtype=int64),\n",
       " array([ 8,  6, 10,  5,  8, 14, 10,  8], dtype=int64),\n",
       " array([ 8,  6, 10,  6, 18,  8, 14, 11], dtype=int64),\n",
       " array([12, 17,  9, 11,  5,  8, 18, 11], dtype=int64),\n",
       " array([17, 12, 14,  6, 15,  7,  6, 15], dtype=int64),\n",
       " array([ 8, 18, 14,  5, 12, 14, 12, 13], dtype=int64),\n",
       " array([15, 12, 14, 18,  6, 14,  6, 16], dtype=int64),\n",
       " array([12,  8, 14, 17, 18,  7, 13, 18], dtype=int64),\n",
       " array([ 5,  7, 12,  6, 10, 19, 14,  7], dtype=int64),\n",
       " array([ 9,  8, 11, 10, 17, 16,  9, 11], dtype=int64),\n",
       " array([19, 11,  5, 17, 13,  5, 16, 13], dtype=int64),\n",
       " array([15,  5, 11, 17, 18, 16, 10,  5], dtype=int64),\n",
       " array([12,  7, 12,  7,  8, 14, 13, 11], dtype=int64),\n",
       " array([13,  6, 14, 18,  9, 16, 12, 19], dtype=int64),\n",
       " array([15,  6, 15, 13,  7, 17, 13,  5], dtype=int64),\n",
       " array([15, 17,  8, 11,  9, 18,  5,  8], dtype=int64),\n",
       " array([ 5, 17, 10,  6,  8, 18, 12, 11], dtype=int64),\n",
       " array([12, 13,  9, 18, 19,  7,  7, 14], dtype=int64),\n",
       " array([17, 12, 14,  9,  6, 15, 10, 16], dtype=int64),\n",
       " array([18, 19,  5,  8,  5,  9,  9,  5], dtype=int64),\n",
       " array([17,  9,  5,  7, 15,  9,  9, 15], dtype=int64),\n",
       " array([10, 19, 13,  5, 13,  9, 17, 16], dtype=int64),\n",
       " array([11, 17, 15, 13, 11,  5,  6, 10], dtype=int64),\n",
       " array([ 9,  7,  8,  7, 14, 11, 17, 11], dtype=int64),\n",
       " array([ 9,  9,  7, 11, 13,  9, 10, 10], dtype=int64),\n",
       " array([11, 10, 19,  6,  6, 12, 11,  7], dtype=int64),\n",
       " array([ 5, 13,  8, 10, 18, 16,  5, 19], dtype=int64),\n",
       " array([16, 13, 18, 17, 13,  6,  9, 10], dtype=int64),\n",
       " array([ 6, 19,  6,  7, 19, 16,  7, 13], dtype=int64),\n",
       " array([11,  9,  9,  8,  5, 12, 18,  8], dtype=int64),\n",
       " array([16, 16, 11, 14, 16, 18, 13,  6], dtype=int64),\n",
       " array([15,  5, 15, 17, 12,  6,  7, 12], dtype=int64),\n",
       " array([ 8,  5, 19, 15,  8, 19, 12, 17], dtype=int64),\n",
       " array([12,  7, 15, 17,  9, 10, 10, 13], dtype=int64),\n",
       " array([11, 16, 17, 10, 18, 14, 15, 16], dtype=int64),\n",
       " array([18, 19, 15, 12, 13, 13, 17,  6], dtype=int64),\n",
       " array([13, 12,  9, 17, 14,  5, 10, 17], dtype=int64),\n",
       " array([16,  7, 19,  6,  9,  5, 13,  8], dtype=int64),\n",
       " array([13,  5, 17, 17, 16, 17,  6, 14], dtype=int64),\n",
       " array([13,  5, 19,  5, 10, 15, 10, 10], dtype=int64),\n",
       " array([10, 12,  8, 15, 18, 11, 19, 11], dtype=int64),\n",
       " array([ 7,  9, 13, 11,  8, 14, 14,  7], dtype=int64),\n",
       " array([ 9, 11, 15,  7, 19, 19, 18, 10], dtype=int64),\n",
       " array([12,  5, 18,  5, 15, 13, 11,  7], dtype=int64),\n",
       " array([13,  8,  7,  7,  7, 14, 13, 10], dtype=int64),\n",
       " array([13,  8, 16, 18, 12, 16, 19, 16], dtype=int64),\n",
       " array([ 6, 17, 13, 16, 16,  6, 10, 13], dtype=int64),\n",
       " array([16, 18, 11, 12, 12,  7, 16,  8], dtype=int64),\n",
       " array([16, 10, 16, 17,  6, 17, 13,  6], dtype=int64),\n",
       " array([15, 11, 17,  9, 17,  7, 11, 18], dtype=int64),\n",
       " array([18,  7,  5, 17, 19, 10, 19, 17], dtype=int64),\n",
       " array([14, 10,  8, 18, 11,  8, 17, 16], dtype=int64),\n",
       " array([14, 10, 12, 16, 15,  5, 17, 12], dtype=int64),\n",
       " array([ 7, 17, 19, 16, 15, 14, 10, 15], dtype=int64),\n",
       " array([14,  6, 10, 11, 17,  9, 10, 19], dtype=int64),\n",
       " array([ 6,  9, 12, 19,  8,  9, 15, 15], dtype=int64),\n",
       " array([ 8, 17, 14, 15, 18, 16,  8,  9], dtype=int64),\n",
       " array([ 7,  9, 10, 14,  5,  8,  8, 10], dtype=int64),\n",
       " array([ 8,  8, 13,  5, 19, 13, 15, 16], dtype=int64),\n",
       " array([ 7,  5, 18,  6, 10,  7, 12,  8], dtype=int64),\n",
       " array([13, 13, 15, 13, 16,  6,  9, 12], dtype=int64),\n",
       " array([16,  7,  7, 14, 18,  7,  5, 16], dtype=int64),\n",
       " array([11, 10, 19,  9,  5, 17, 14, 17], dtype=int64),\n",
       " array([14, 18, 10, 14, 16, 16,  7, 18], dtype=int64),\n",
       " array([12, 11, 16,  7, 10, 11, 19, 10], dtype=int64),\n",
       " array([ 7, 14,  7, 19, 19, 12,  6,  8], dtype=int64),\n",
       " array([17, 19,  8, 19, 15, 10, 14,  6], dtype=int64),\n",
       " array([14, 17, 11, 16, 19, 16,  6,  8], dtype=int64),\n",
       " array([ 8,  5,  5,  8,  8,  9, 18,  7], dtype=int64),\n",
       " array([16, 19,  7, 17, 11,  5,  6,  5], dtype=int64),\n",
       " array([11, 15,  6,  5, 19,  7,  5, 14], dtype=int64),\n",
       " array([11,  5,  9, 13, 14,  5, 18, 16], dtype=int64),\n",
       " array([ 7,  8, 10, 13,  6, 13, 11,  8], dtype=int64),\n",
       " array([15, 13, 13, 16, 14,  5, 11, 14], dtype=int64),\n",
       " array([16,  8,  9, 18,  9,  7,  9,  8], dtype=int64),\n",
       " array([10,  9, 19,  6, 13, 19,  7, 15], dtype=int64),\n",
       " array([14,  9, 16,  5, 13, 15, 11, 19], dtype=int64),\n",
       " array([18,  7,  5,  9, 11, 13,  7,  7], dtype=int64),\n",
       " array([13,  7, 15, 16, 10,  9, 11, 19], dtype=int64),\n",
       " array([12,  6, 13,  7, 16,  9, 15, 11], dtype=int64),\n",
       " array([16,  6,  8, 12, 15, 13, 14,  6], dtype=int64),\n",
       " array([15, 12, 11, 12, 14, 16, 17,  7], dtype=int64),\n",
       " array([16, 16, 10,  9,  6, 11,  8, 18], dtype=int64),\n",
       " array([10,  9, 12, 11,  6, 11, 15, 10], dtype=int64),\n",
       " array([12,  7,  8, 18, 17,  7,  8, 13], dtype=int64),\n",
       " array([ 8, 18, 12,  5, 18, 19, 16, 17], dtype=int64),\n",
       " array([ 9,  6, 15,  6, 13, 16,  9, 12], dtype=int64),\n",
       " array([17, 10, 10, 13, 14, 10,  9, 11], dtype=int64),\n",
       " array([ 6, 12, 12,  7, 11, 10,  5, 10], dtype=int64),\n",
       " array([ 8,  8, 16,  9, 14, 14, 11, 17], dtype=int64),\n",
       " array([11, 11,  6,  9,  9,  8,  7, 15], dtype=int64),\n",
       " array([ 5,  5,  6, 17, 13,  5,  9,  5], dtype=int64),\n",
       " array([14, 16, 19, 19, 17, 12,  6,  5], dtype=int64),\n",
       " array([14, 11, 16, 18,  7,  8,  8, 17], dtype=int64),\n",
       " array([13, 16, 13, 18, 17, 17, 18, 10], dtype=int64),\n",
       " array([16, 14, 13,  7, 11, 10, 11, 13], dtype=int64),\n",
       " array([19, 19, 10, 17, 18,  8,  8, 14], dtype=int64),\n",
       " array([ 6, 12,  6, 15,  7, 13, 13, 19], dtype=int64),\n",
       " array([19, 17, 18, 14,  9, 17,  6, 19], dtype=int64),\n",
       " array([ 6,  7,  9,  9, 11, 17, 10, 15], dtype=int64),\n",
       " array([12, 15,  7,  7, 10, 15, 17, 10], dtype=int64),\n",
       " array([12, 13, 14, 16, 14,  9,  8, 17], dtype=int64),\n",
       " array([10, 10, 14, 19, 15, 14, 17,  9], dtype=int64),\n",
       " array([ 8, 11,  5, 16,  6,  7, 17,  8], dtype=int64),\n",
       " array([ 6, 14, 14, 19, 11,  6, 11, 19], dtype=int64),\n",
       " array([ 7, 16, 18,  6, 15, 18, 17, 16], dtype=int64),\n",
       " array([12,  9, 19, 13, 12, 14, 18, 17], dtype=int64),\n",
       " array([ 6, 15, 11, 10,  8, 17, 10, 13], dtype=int64),\n",
       " array([14,  6, 13,  9, 11, 19, 17, 15], dtype=int64),\n",
       " array([13,  9, 17, 10, 14, 15, 11, 11], dtype=int64),\n",
       " array([ 5,  5,  7, 16, 13, 10,  6, 17], dtype=int64),\n",
       " array([11, 16, 15, 13, 11,  9,  7,  5], dtype=int64),\n",
       " array([12, 19, 11,  8, 11,  7,  7, 17], dtype=int64),\n",
       " array([10,  5, 12, 10, 13, 14, 13,  6], dtype=int64),\n",
       " array([ 5, 11,  7, 12, 13,  6, 19, 18], dtype=int64),\n",
       " array([15,  6, 10,  8,  7, 19, 12, 12], dtype=int64),\n",
       " array([13, 10,  8, 13,  5, 12,  9, 13], dtype=int64),\n",
       " array([19,  7,  8, 16, 11, 15,  5,  6], dtype=int64),\n",
       " array([13, 13, 18, 18, 18, 14, 15, 12], dtype=int64),\n",
       " array([12, 12, 11, 13, 10, 11, 14, 17], dtype=int64),\n",
       " array([ 8, 17,  5, 18, 12, 10,  5, 15], dtype=int64),\n",
       " array([11, 12,  8,  8, 19, 19,  8, 17], dtype=int64),\n",
       " array([17, 16,  5, 15, 19,  6, 10,  9], dtype=int64),\n",
       " array([15,  8,  8, 11, 19, 17, 11, 11], dtype=int64),\n",
       " array([ 9, 12,  9, 11, 19, 11,  8, 18], dtype=int64),\n",
       " array([ 5,  7, 19,  8,  6, 19, 11, 14], dtype=int64),\n",
       " array([13, 17,  9, 14,  9, 12,  7, 18], dtype=int64),\n",
       " array([11,  7,  8, 11, 16, 12, 13,  9], dtype=int64),\n",
       " array([ 9,  9,  6,  6,  5, 13, 11,  7], dtype=int64),\n",
       " array([15, 18, 13, 18, 19, 11,  5, 11], dtype=int64),\n",
       " array([10,  8,  8,  5, 15, 14, 15, 13], dtype=int64),\n",
       " array([ 9, 17, 12, 14,  5,  6, 11, 19], dtype=int64),\n",
       " array([19, 18, 16, 17, 19, 16, 10, 18], dtype=int64),\n",
       " array([11, 18, 11,  6,  5,  5, 11,  7], dtype=int64),\n",
       " array([13, 13, 19, 19,  5,  6, 13,  9], dtype=int64),\n",
       " array([11, 11, 17,  5, 14, 17, 17,  7], dtype=int64),\n",
       " array([ 7,  9,  6,  5, 14, 18, 16, 15], dtype=int64),\n",
       " array([10, 15, 12, 13,  5,  7, 16, 16], dtype=int64),\n",
       " array([11,  8,  9, 15, 14, 12, 11, 15], dtype=int64),\n",
       " array([13, 13, 12,  5, 13,  5,  6, 16], dtype=int64),\n",
       " array([10,  9,  5,  6, 15, 10, 13,  6], dtype=int64),\n",
       " array([ 7, 11, 15, 10,  5, 14, 13,  7], dtype=int64),\n",
       " array([ 8, 16, 12, 17,  7,  6, 10, 10], dtype=int64),\n",
       " array([10,  8, 14, 15,  9,  5, 14, 12], dtype=int64),\n",
       " array([10, 10, 12, 13, 12, 17,  5, 19], dtype=int64),\n",
       " array([18,  9, 19, 18, 19,  8,  5, 11], dtype=int64),\n",
       " array([ 9,  5, 10,  6,  7,  7, 14, 19], dtype=int64),\n",
       " array([15, 13, 14, 18,  5, 14, 11, 18], dtype=int64),\n",
       " array([12, 11, 18,  5, 15, 10, 11,  5], dtype=int64),\n",
       " array([ 8, 12, 17,  5, 15, 13,  8, 15], dtype=int64),\n",
       " array([13, 11, 18, 15, 18, 11, 17, 18], dtype=int64),\n",
       " array([18,  8, 17, 19,  6, 12,  9, 10], dtype=int64),\n",
       " array([ 5, 19, 11, 19, 11,  5,  7, 10], dtype=int64),\n",
       " array([11, 15, 11, 13,  5, 18,  8, 17], dtype=int64),\n",
       " array([ 7, 18,  8,  6, 19,  5, 19, 15], dtype=int64),\n",
       " array([ 7, 15,  9,  9, 19,  6, 18, 18], dtype=int64),\n",
       " array([17, 10, 11, 11, 16,  5, 13, 12], dtype=int64),\n",
       " array([ 7, 16, 17, 13, 18, 17, 14,  7], dtype=int64),\n",
       " array([14, 12, 10, 11,  5, 18,  6, 19], dtype=int64),\n",
       " array([13,  7,  8,  5,  8,  6,  7,  7], dtype=int64),\n",
       " array([11, 15,  9,  5,  5, 15,  8,  9], dtype=int64),\n",
       " array([10,  9, 19, 13,  7, 11, 16, 13], dtype=int64),\n",
       " array([14, 18,  8, 17, 13,  7, 10,  5], dtype=int64),\n",
       " array([19,  7, 19, 13,  8, 15,  8, 12], dtype=int64),\n",
       " array([ 5, 17,  5, 11,  8, 15, 11, 19], dtype=int64),\n",
       " array([17, 14, 11,  8, 17, 17,  9, 19], dtype=int64),\n",
       " array([14,  5,  9, 16, 18,  8,  5, 11], dtype=int64),\n",
       " array([15,  5,  5,  7, 12, 15,  6, 12], dtype=int64),\n",
       " array([ 6, 13, 17, 15,  6, 10,  6,  8], dtype=int64),\n",
       " array([12, 10, 11, 18, 12, 17, 19, 15], dtype=int64),\n",
       " array([19,  6, 11,  6, 17,  5, 10, 14], dtype=int64),\n",
       " array([16,  5, 12, 19, 11,  5, 18, 11], dtype=int64),\n",
       " array([13, 19,  6, 14, 14, 17, 13, 16], dtype=int64),\n",
       " array([18,  8,  6, 13,  9, 19, 13, 12], dtype=int64),\n",
       " array([ 7, 13, 19, 18,  8, 15, 10,  5], dtype=int64),\n",
       " array([ 6, 12, 19, 10,  6, 19, 17, 15], dtype=int64),\n",
       " array([ 7,  7, 10, 15, 18, 17,  9, 19], dtype=int64),\n",
       " array([17, 11, 16, 10, 16, 13, 16, 16], dtype=int64),\n",
       " array([ 6, 10, 11, 17, 19, 16,  8, 19], dtype=int64),\n",
       " array([17,  5, 14, 11, 13, 17,  6,  6], dtype=int64),\n",
       " array([19, 19, 16,  5, 19, 19,  6,  6], dtype=int64),\n",
       " array([16,  9,  6,  5,  9, 17,  9, 14], dtype=int64),\n",
       " array([ 6, 17,  8,  7, 17, 18, 11, 10], dtype=int64),\n",
       " array([ 6, 14, 18, 12, 16, 12, 11, 18], dtype=int64),\n",
       " array([ 7, 15,  8, 10, 17, 13,  8, 11], dtype=int64),\n",
       " array([12, 17, 15, 14, 11,  5, 11, 15], dtype=int64),\n",
       " array([ 6,  9,  7, 10, 11, 11,  8,  8], dtype=int64),\n",
       " array([18,  7, 11, 13,  9,  7,  5, 13], dtype=int64),\n",
       " array([18, 14,  5,  5, 11, 19, 17, 19], dtype=int64),\n",
       " array([ 7, 16,  5, 17, 11,  5,  8,  9], dtype=int64),\n",
       " array([13,  6, 15, 12,  9, 18, 15, 19], dtype=int64),\n",
       " array([10, 19, 10,  6, 14, 14, 10, 16], dtype=int64),\n",
       " array([ 8, 16, 15, 13, 19, 14,  5, 15], dtype=int64),\n",
       " array([14, 14, 10,  8, 13, 12,  9, 14], dtype=int64),\n",
       " array([12, 15, 16, 11, 10, 17, 13,  8], dtype=int64),\n",
       " array([ 8,  6, 17, 19, 10, 11, 19,  5], dtype=int64),\n",
       " array([15, 17, 11, 13, 18, 13,  7, 13], dtype=int64),\n",
       " array([ 7, 17, 16,  5, 11, 11, 14, 11], dtype=int64),\n",
       " array([12, 18,  5, 18,  8, 13, 15,  8], dtype=int64),\n",
       " array([12, 15, 19, 19,  9, 13,  8, 11], dtype=int64),\n",
       " array([15, 18, 13,  7, 19, 15, 17, 19], dtype=int64),\n",
       " array([13, 10, 18, 11, 15, 19, 15, 15], dtype=int64),\n",
       " array([19,  8,  5,  8, 11, 10, 16,  6], dtype=int64),\n",
       " array([ 7,  5, 17, 19,  8, 18,  5, 16], dtype=int64),\n",
       " array([10,  8,  5,  7,  7,  9,  5,  9], dtype=int64),\n",
       " array([16, 18, 11, 12, 16, 12, 15, 17], dtype=int64),\n",
       " array([11,  8, 10, 19, 18, 14, 12,  6], dtype=int64),\n",
       " array([16, 13,  5, 16, 14, 14, 18,  5], dtype=int64),\n",
       " array([16, 13, 17,  5, 15, 17, 13, 16], dtype=int64),\n",
       " array([ 7, 19,  9, 19,  9, 11, 12, 16], dtype=int64),\n",
       " array([17,  9, 18, 15,  9,  7,  9,  5], dtype=int64),\n",
       " array([17,  7,  7, 16, 19, 16, 15, 12], dtype=int64),\n",
       " array([ 9,  8, 18, 11, 17,  7,  9,  9], dtype=int64),\n",
       " array([ 7, 17,  5,  6, 12,  5, 16, 16], dtype=int64),\n",
       " array([ 8,  9,  8, 17, 19, 15,  7, 15], dtype=int64),\n",
       " array([11, 16, 12, 10,  6, 16, 17,  6], dtype=int64),\n",
       " array([10, 10,  9, 10, 17, 11, 14, 11], dtype=int64),\n",
       " array([ 7, 16,  8, 17,  7, 16, 15, 14], dtype=int64),\n",
       " array([13, 11, 18,  5, 15,  7, 14, 11], dtype=int64),\n",
       " array([ 8, 19,  7, 15, 11, 10, 10, 16], dtype=int64),\n",
       " array([19,  9, 14,  7,  6, 13, 12, 11], dtype=int64),\n",
       " array([13, 16, 13, 15, 18,  6, 10, 17], dtype=int64),\n",
       " array([15,  9, 15,  9,  6, 11, 19, 10], dtype=int64),\n",
       " array([15, 11, 11, 16,  5, 18,  5, 16], dtype=int64),\n",
       " array([13, 11, 14, 13,  6, 10, 16, 18], dtype=int64),\n",
       " array([14, 18, 15, 19,  7, 13,  8, 16], dtype=int64),\n",
       " array([11, 14,  9,  7,  5, 16, 15,  9], dtype=int64),\n",
       " array([16, 16, 14, 18,  6,  6, 15,  8], dtype=int64),\n",
       " array([ 5, 19,  8, 10, 10,  5, 13, 10], dtype=int64),\n",
       " array([13, 15, 13,  9,  5, 19,  5,  5], dtype=int64),\n",
       " array([ 6, 18,  5,  6, 16, 17, 11, 13], dtype=int64),\n",
       " array([18, 17, 10, 15, 17, 13, 13, 13], dtype=int64),\n",
       " array([ 9,  8, 15, 19, 10,  9,  9,  5], dtype=int64),\n",
       " array([11, 12, 13, 18, 15, 16,  5, 18], dtype=int64),\n",
       " array([19,  5, 14,  8, 15, 14, 16,  9], dtype=int64),\n",
       " array([ 7, 11, 16, 11, 13, 14, 14,  5], dtype=int64),\n",
       " array([17,  8, 16,  5, 10, 14, 12, 16], dtype=int64),\n",
       " array([12, 15, 17, 16, 10,  8, 15,  6], dtype=int64),\n",
       " array([10,  9,  8, 15, 11,  6, 14, 12], dtype=int64),\n",
       " array([15,  8, 15,  7,  6,  5, 16,  7], dtype=int64),\n",
       " array([13, 16, 12, 14, 12,  8, 18, 13], dtype=int64),\n",
       " array([18,  9,  5,  9, 15, 11, 15,  6], dtype=int64),\n",
       " array([18, 14,  7,  9, 17,  5,  9, 10], dtype=int64),\n",
       " array([17,  9, 12,  7,  9, 13,  8, 19], dtype=int64),\n",
       " array([13, 17, 11,  5, 15,  6,  8, 12], dtype=int64),\n",
       " array([16, 13, 15, 11, 14,  5, 16,  8], dtype=int64),\n",
       " array([10, 13, 19, 11,  8, 17, 18, 19], dtype=int64),\n",
       " array([17, 16, 13, 12, 18, 10,  6,  8], dtype=int64),\n",
       " array([ 5, 18, 18, 14,  8, 13,  7, 12], dtype=int64),\n",
       " array([ 6, 18,  6, 11, 16,  9,  8, 17], dtype=int64),\n",
       " array([ 5,  6, 14, 16, 14, 11, 11, 17], dtype=int64),\n",
       " array([ 5, 17, 16, 10, 11, 19, 19, 13], dtype=int64),\n",
       " array([14, 11, 19, 14,  9, 15, 17, 15], dtype=int64),\n",
       " array([17,  7, 19, 13, 15, 11, 12, 18], dtype=int64),\n",
       " array([13, 19, 15,  5,  5, 16,  8, 11], dtype=int64),\n",
       " array([15, 11,  8,  8,  8, 14, 16,  5], dtype=int64),\n",
       " array([13, 14,  6,  5, 11, 11,  5,  8], dtype=int64),\n",
       " array([ 5, 15,  8, 14, 14, 14,  9, 14], dtype=int64),\n",
       " array([ 9, 15, 14,  8,  8, 18, 15,  5], dtype=int64),\n",
       " array([10, 13, 13,  5, 13, 15,  6, 11], dtype=int64),\n",
       " array([14, 19, 13, 15, 15, 13, 16,  9], dtype=int64),\n",
       " array([10,  7,  5, 11,  9, 14, 13, 11], dtype=int64),\n",
       " array([ 9,  6,  7, 10, 15, 13, 14, 12], dtype=int64),\n",
       " array([ 7,  7, 17,  7, 17,  7, 17,  7], dtype=int64),\n",
       " array([ 8, 16, 18, 16, 10, 12, 16,  7], dtype=int64),\n",
       " array([10, 18, 15, 11, 16, 11,  6, 10], dtype=int64),\n",
       " array([16, 10, 17, 19, 10,  7, 16,  5], dtype=int64),\n",
       " array([ 8, 11, 16, 11, 19, 19,  5, 19], dtype=int64),\n",
       " array([ 7, 16, 10, 11, 13,  7, 14, 17], dtype=int64),\n",
       " array([ 6, 12, 11, 11,  8, 17, 17, 19], dtype=int64),\n",
       " array([15, 19, 18, 15, 18,  7,  9, 12], dtype=int64),\n",
       " array([17,  9,  7, 12, 16, 19, 19, 13], dtype=int64),\n",
       " array([17,  7,  8, 14, 19,  6, 17, 16], dtype=int64),\n",
       " array([ 7,  9, 13, 17,  5, 17,  7, 16], dtype=int64),\n",
       " array([ 6, 14, 14,  7, 18,  7, 18, 16], dtype=int64),\n",
       " array([19, 13,  8, 19, 16, 15,  5,  6], dtype=int64),\n",
       " array([17, 18,  8, 13, 17, 10,  7, 15], dtype=int64),\n",
       " array([13, 13, 12,  7, 17, 19, 16, 14], dtype=int64),\n",
       " array([18, 15, 14, 13,  6, 10,  7,  7], dtype=int64),\n",
       " array([13, 15,  9,  7, 16, 14, 17, 14], dtype=int64),\n",
       " array([15,  8,  8, 12,  9, 19,  7, 11], dtype=int64),\n",
       " array([ 9,  9, 16, 14, 19, 15, 13, 14], dtype=int64),\n",
       " array([13, 13, 10, 14, 15, 16, 10, 11], dtype=int64),\n",
       " array([12, 15,  6, 15, 12, 18, 17, 11], dtype=int64),\n",
       " array([15, 18,  5,  7, 14, 11, 12, 13], dtype=int64),\n",
       " array([19,  9, 15,  7, 13, 12, 14, 16], dtype=int64),\n",
       " array([18, 19,  5, 19,  8,  9, 10,  5], dtype=int64),\n",
       " array([ 8, 14,  5, 18, 17, 15, 10,  8], dtype=int64),\n",
       " array([15, 12,  8,  5, 15, 18, 16,  8], dtype=int64),\n",
       " array([15,  8,  5, 14,  5, 18, 10, 15], dtype=int64),\n",
       " array([15, 17, 18, 19, 10,  5,  8,  7], dtype=int64),\n",
       " array([14, 13, 12, 18, 11, 17, 18, 12], dtype=int64),\n",
       " array([ 8, 11, 15,  8, 11,  5, 15, 10], dtype=int64),\n",
       " array([16, 13,  6,  6, 16, 17,  7, 17], dtype=int64),\n",
       " array([ 7,  6,  7,  9,  8,  9, 17, 19], dtype=int64),\n",
       " array([10,  7, 16,  8, 10, 18, 11,  7], dtype=int64),\n",
       " array([ 9, 12, 14,  8, 14,  7,  8, 19], dtype=int64),\n",
       " array([14, 16, 11, 15, 11, 19, 18, 12], dtype=int64),\n",
       " array([14,  8,  5, 15,  5, 10,  6, 13], dtype=int64),\n",
       " array([ 8, 16, 18, 18, 17, 15, 17, 10], dtype=int64),\n",
       " array([19,  5, 11,  6, 17, 10,  5,  9], dtype=int64),\n",
       " array([17, 10, 17, 19, 17,  8, 12,  9], dtype=int64),\n",
       " array([13, 11, 13, 10, 10,  6, 17, 17], dtype=int64),\n",
       " array([13, 19, 13,  5, 12, 19,  7,  9], dtype=int64),\n",
       " array([ 6, 15, 10, 11,  9, 10,  9,  6], dtype=int64),\n",
       " array([17, 10, 14, 19, 16,  7, 17,  7], dtype=int64),\n",
       " array([17, 11, 19, 18,  9,  6, 12, 11], dtype=int64),\n",
       " array([14, 10,  7, 12, 10, 14,  8, 18], dtype=int64),\n",
       " array([14,  5, 18,  8, 10, 19, 18,  9], dtype=int64),\n",
       " array([ 8, 13, 17, 19, 16, 11, 10,  9], dtype=int64),\n",
       " array([13,  9, 13, 17, 14,  7, 16, 12], dtype=int64),\n",
       " array([10, 12,  5, 15, 18,  8, 10, 17], dtype=int64),\n",
       " array([13,  9, 17,  7, 10, 12, 10, 11], dtype=int64),\n",
       " array([16,  7, 16, 15, 14,  6,  6,  7], dtype=int64),\n",
       " array([18,  7,  7,  5, 10, 15, 12,  9], dtype=int64),\n",
       " array([12, 16, 12, 15, 11, 15, 18,  7], dtype=int64),\n",
       " array([ 8,  7, 12,  6, 13, 12, 16,  6], dtype=int64),\n",
       " array([14, 18, 12, 18, 17, 14, 14, 10], dtype=int64),\n",
       " array([ 6, 14, 18, 17,  6, 13,  6, 12], dtype=int64),\n",
       " array([17, 12, 17, 11, 13, 14, 18, 12], dtype=int64),\n",
       " array([11, 15, 12,  9,  7, 17, 13,  5], dtype=int64),\n",
       " array([14,  9, 17,  7,  7, 19,  7,  5], dtype=int64),\n",
       " array([16, 10, 13,  9, 12, 18, 18, 18], dtype=int64),\n",
       " array([14,  6, 14, 16, 18, 14, 14,  8], dtype=int64),\n",
       " array([11,  7,  8,  9,  7, 17, 11, 18], dtype=int64),\n",
       " array([16,  6, 16, 16,  6, 17, 14, 19], dtype=int64),\n",
       " array([14,  9,  5, 19,  6,  5, 15,  9], dtype=int64),\n",
       " array([16,  5,  9,  9,  6,  5, 14, 10], dtype=int64),\n",
       " array([10,  9,  5,  6, 19, 19, 16, 15], dtype=int64),\n",
       " array([19,  8, 19,  7,  8, 18,  6,  6], dtype=int64),\n",
       " array([ 7, 14, 17,  9, 18, 10, 11, 12], dtype=int64),\n",
       " array([14,  5,  6,  8,  8, 18,  6,  5], dtype=int64),\n",
       " array([16, 11, 14, 16,  9, 15,  8,  7], dtype=int64),\n",
       " array([13, 13,  7,  9,  8, 10, 15, 17], dtype=int64),\n",
       " array([16, 15,  6,  8, 17, 17,  7, 15], dtype=int64),\n",
       " array([16, 16, 18,  7, 13, 13,  8, 16], dtype=int64),\n",
       " array([ 7,  5, 10, 11, 16, 11, 14,  5], dtype=int64),\n",
       " array([ 6, 17, 14, 11,  5, 16, 10,  9], dtype=int64),\n",
       " array([ 9,  5, 13,  6, 18, 17, 14, 16], dtype=int64),\n",
       " array([ 9, 13, 15, 18,  7,  7, 15,  5], dtype=int64),\n",
       " array([ 6, 13, 15, 19,  8, 19, 19,  6], dtype=int64),\n",
       " array([13,  6, 12,  6,  5, 19, 15, 15], dtype=int64),\n",
       " array([11, 14, 19,  7, 13,  7,  6, 15], dtype=int64),\n",
       " array([18,  8, 10,  7, 19,  6,  8, 16], dtype=int64),\n",
       " array([19, 15, 17,  8,  8, 19, 19,  5], dtype=int64),\n",
       " array([13, 18, 17,  9, 16, 18, 19,  5], dtype=int64),\n",
       " array([ 9, 14,  6,  6,  9,  7, 11, 16], dtype=int64),\n",
       " array([15,  8, 16, 19, 18, 19,  7, 17], dtype=int64),\n",
       " array([18, 17, 12,  8, 19, 12, 14,  9], dtype=int64),\n",
       " array([ 6,  6, 17, 16, 16, 15,  5, 15], dtype=int64),\n",
       " array([ 5, 17,  9, 19,  9,  8,  5, 19], dtype=int64),\n",
       " array([12,  5,  5,  5,  5,  7,  6,  7], dtype=int64),\n",
       " array([19, 19, 16, 17,  8, 19,  7, 18], dtype=int64),\n",
       " array([18,  9, 17, 13, 14, 17, 15, 15], dtype=int64),\n",
       " array([14, 14, 10,  6,  9, 12,  6, 16], dtype=int64),\n",
       " array([ 6, 15,  6,  6, 17, 12,  6, 15], dtype=int64),\n",
       " array([ 7, 12, 13, 13,  9, 16,  9, 15], dtype=int64),\n",
       " array([ 6,  8, 13,  8, 15, 15, 19,  6], dtype=int64),\n",
       " array([19, 18,  6,  9, 11, 12,  8,  5], dtype=int64),\n",
       " array([17,  5, 13, 13, 15, 11, 19, 19], dtype=int64),\n",
       " array([12,  8,  8,  6, 19, 10,  8, 15], dtype=int64),\n",
       " array([ 5, 12, 17,  6, 13, 19, 17,  7], dtype=int64),\n",
       " array([11,  9,  9,  6, 12,  7, 14,  9], dtype=int64),\n",
       " array([ 9, 12, 11, 15, 11, 15, 19,  9], dtype=int64),\n",
       " array([15,  6, 13,  7, 18, 13, 15,  9], dtype=int64),\n",
       " array([10, 16, 19,  6, 19, 19,  6, 15], dtype=int64),\n",
       " array([14, 19, 11,  7,  5, 13,  7, 11], dtype=int64),\n",
       " array([ 7, 10, 16, 11, 17, 18, 17, 10], dtype=int64),\n",
       " array([ 6,  9, 16, 10,  5, 11, 18, 13], dtype=int64),\n",
       " array([15, 11, 12, 19, 17,  9, 13, 12], dtype=int64),\n",
       " array([17, 17, 15,  8,  9,  8, 16, 13], dtype=int64),\n",
       " array([16,  5,  9, 16, 18, 17, 11,  7], dtype=int64),\n",
       " array([11, 17, 12,  6, 14, 19, 17, 19], dtype=int64),\n",
       " array([18, 17, 12, 11, 18, 10, 11,  7], dtype=int64),\n",
       " array([17, 17, 16, 13,  5,  7, 16,  8], dtype=int64),\n",
       " array([13,  5,  9, 10,  7, 13,  9, 13], dtype=int64),\n",
       " array([ 5, 15,  8, 15,  5,  8,  6, 17], dtype=int64),\n",
       " array([18, 11, 18, 17, 14, 10, 11, 17], dtype=int64),\n",
       " array([ 7, 19,  5, 17,  9,  8,  8, 16], dtype=int64),\n",
       " array([ 5,  6, 19, 17,  6, 18,  6,  7], dtype=int64),\n",
       " array([19,  6, 14,  9, 13,  8, 18,  8], dtype=int64),\n",
       " array([10,  7, 13, 19, 12, 16, 19, 14], dtype=int64),\n",
       " array([16, 11,  8, 14, 11, 16, 10,  6], dtype=int64),\n",
       " array([14, 19, 15, 15, 15,  5,  5, 11], dtype=int64),\n",
       " array([ 9,  5, 16,  6,  9,  8,  8, 14], dtype=int64),\n",
       " array([12,  7,  5,  6,  9,  6,  7,  5], dtype=int64),\n",
       " array([12, 18,  6, 17, 11,  7, 13, 10], dtype=int64),\n",
       " array([ 6,  5, 17,  8, 18,  8, 16, 14], dtype=int64),\n",
       " array([16, 12, 17, 18, 13,  6, 10, 17], dtype=int64),\n",
       " array([11, 14, 14, 12, 15, 14, 11, 13], dtype=int64),\n",
       " array([17, 15, 11, 12,  5, 11, 18, 17], dtype=int64),\n",
       " array([18,  8,  8, 19, 12, 16,  7,  5], dtype=int64),\n",
       " array([12, 11, 19, 15, 12, 18,  7, 11], dtype=int64),\n",
       " array([19, 15,  8,  6, 17, 15, 14, 18], dtype=int64),\n",
       " array([14,  6, 18, 13,  7, 18,  9, 12], dtype=int64),\n",
       " array([ 8,  5, 11,  8, 19,  8, 15, 13], dtype=int64),\n",
       " array([ 7,  5, 17,  5,  7, 13, 18,  9], dtype=int64),\n",
       " array([17, 18, 14,  7, 11,  9, 13,  5], dtype=int64),\n",
       " array([16, 13, 16,  5, 17, 10,  7, 11], dtype=int64),\n",
       " array([ 9,  8, 13,  6, 15, 17, 14, 11], dtype=int64),\n",
       " array([16, 17,  6, 13,  9, 12,  8,  7], dtype=int64),\n",
       " array([19, 12,  7,  9,  9, 12, 14, 10], dtype=int64)]"
      ]
     },
     "execution_count": 13,
     "metadata": {},
     "output_type": "execute_result"
    }
   ],
   "source": [
    "a_s"
   ]
  },
  {
   "cell_type": "code",
   "execution_count": 23,
   "metadata": {},
   "outputs": [],
   "source": [
    "from time import time"
   ]
  },
  {
   "cell_type": "code",
   "execution_count": 82,
   "metadata": {},
   "outputs": [
    {
     "data": {
      "text/plain": [
       "(66502.62434380948, 3325.131217190474, 0.2)"
      ]
     },
     "execution_count": 82,
     "metadata": {},
     "output_type": "execute_result"
    }
   ],
   "source": [
    "a = np.array([1]*25)\n",
    "b = 5\n",
    "fpras_knapsack(a, b, rng, delta = 0.2, epsilon = 0.05)"
   ]
  },
  {
   "cell_type": "code",
   "execution_count": 5,
   "metadata": {},
   "outputs": [
    {
     "ename": "NameError",
     "evalue": "name 'a' is not defined",
     "output_type": "error",
     "traceback": [
      "\u001b[1;31m---------------------------------------------------------------------------\u001b[0m",
      "\u001b[1;31mNameError\u001b[0m                                 Traceback (most recent call last)",
      "Cell \u001b[1;32mIn[5], line 1\u001b[0m\n\u001b[1;32m----> 1\u001b[0m exact_counting(\u001b[43ma\u001b[49m, b)\n",
      "\u001b[1;31mNameError\u001b[0m: name 'a' is not defined"
     ]
    }
   ],
   "source": [
    "exact_counting(a, b)"
   ]
  },
  {
   "cell_type": "code",
   "execution_count": 24,
   "metadata": {},
   "outputs": [
    {
     "name": "stderr",
     "output_type": "stream",
     "text": [
      "100%|██████████| 20/20 [09:02<00:00, 27.13s/it]\n"
     ]
    }
   ],
   "source": [
    "times = list()\n",
    "\n",
    "for i in tqdm(range(2, 22)):\n",
    "    t = time()\n",
    "    result, error, probability = fpras_knapsack(np.arange(1, i + 1), 2*i, rng, delta = 0.1, epsilon = 0.1)\n",
    "    times.append(time()-t)"
   ]
  },
  {
   "cell_type": "code",
   "execution_count": 89,
   "metadata": {},
   "outputs": [
    {
     "name": "stderr",
     "output_type": "stream",
     "text": [
      "100%|██████████| 20/20 [00:28<00:00,  1.44s/it]\n"
     ]
    }
   ],
   "source": [
    "times_exact = list()\n",
    "for i in tqdm(range(2, 22)):\n",
    "    t = time()\n",
    "    exact_counting(np.arange(1, i + 1), 2*i)\n",
    "    times_exact.append(time()-t)"
   ]
  },
  {
   "cell_type": "code",
   "execution_count": 25,
   "metadata": {},
   "outputs": [
    {
     "data": {
      "text/plain": [
       "[0.23950815200805664,\n",
       " 0.9840590953826904,\n",
       " 1.2319369316101074,\n",
       " 2.8107380867004395,\n",
       " 3.7034013271331787,\n",
       " 3.7921338081359863,\n",
       " 8.177857398986816,\n",
       " 8.843263864517212,\n",
       " 9.333226203918457,\n",
       " 17.093436241149902,\n",
       " 18.19274115562439,\n",
       " 19.364033222198486,\n",
       " 33.4001727104187,\n",
       " 35.11546301841736,\n",
       " 35.81485056877136,\n",
       " 37.64725065231323,\n",
       " 73.90973544120789,\n",
       " 77.97275972366333,\n",
       " 77.46083283424377,\n",
       " 77.44297003746033]"
      ]
     },
     "execution_count": 25,
     "metadata": {},
     "output_type": "execute_result"
    }
   ],
   "source": [
    "times"
   ]
  },
  {
   "cell_type": "code",
   "execution_count": null,
   "metadata": {},
   "outputs": [
    {
     "data": {
      "text/plain": [
       "array([ 2,  3,  4,  5,  6,  7,  8,  9, 10, 11, 12, 13, 14, 15, 16, 17, 18,\n",
       "       19, 20, 21])"
      ]
     },
     "execution_count": 139,
     "metadata": {},
     "output_type": "execute_result"
    }
   ],
   "source": [
    "np.arange(2, 22)"
   ]
  },
  {
   "cell_type": "code",
   "execution_count": 4,
   "metadata": {},
   "outputs": [],
   "source": [
    "from matplotlib import pyplot as plt"
   ]
  },
  {
   "cell_type": "code",
   "execution_count": 28,
   "metadata": {},
   "outputs": [
    {
     "ename": "NameError",
     "evalue": "name 'times_exact' is not defined",
     "output_type": "error",
     "traceback": [
      "\u001b[1;31m---------------------------------------------------------------------------\u001b[0m",
      "\u001b[1;31mNameError\u001b[0m                                 Traceback (most recent call last)",
      "Cell \u001b[1;32mIn[28], line 1\u001b[0m\n\u001b[1;32m----> 1\u001b[0m plt\u001b[38;5;241m.\u001b[39mscatter(np\u001b[38;5;241m.\u001b[39marange(\u001b[38;5;241m2\u001b[39m, \u001b[38;5;241m22\u001b[39m), np\u001b[38;5;241m.\u001b[39marray(\u001b[43mtimes_exact\u001b[49m))\n",
      "\u001b[1;31mNameError\u001b[0m: name 'times_exact' is not defined"
     ]
    }
   ],
   "source": [
    "plt.scatter(np.arange(2, 22), np.array(times_exact))"
   ]
  },
  {
   "cell_type": "code",
   "execution_count": 32,
   "metadata": {},
   "outputs": [],
   "source": [
    "f = open(\"dep_times_n copy.txt\")\n",
    "lines = f.readlines()\n",
    "times = list()\n",
    "numbers = list()\n",
    "for line in lines:\n",
    "    number, t = map(int, line.split())\n",
    "    numbers.append(number)\n",
    "    times.append(t/10**6)\n"
   ]
  },
  {
   "cell_type": "code",
   "execution_count": 33,
   "metadata": {},
   "outputs": [
    {
     "data": {
      "text/plain": [
       "[0.009611,\n",
       " 0.084444,\n",
       " 0.12693,\n",
       " 0.154658,\n",
       " 0.532838,\n",
       " 0.641299,\n",
       " 0.742194,\n",
       " 0.858583,\n",
       " 2.09372,\n",
       " 2.364065,\n",
       " 2.667214,\n",
       " 2.936559,\n",
       " 3.259311,\n",
       " 6.498126,\n",
       " 7.323203,\n",
       " 8.034256,\n",
       " 8.452862,\n",
       " 9.223908,\n",
       " 9.862816,\n",
       " 16.762061]"
      ]
     },
     "execution_count": 33,
     "metadata": {},
     "output_type": "execute_result"
    }
   ],
   "source": [
    "times"
   ]
  },
  {
   "cell_type": "code",
   "execution_count": 34,
   "metadata": {},
   "outputs": [
    {
     "data": {
      "image/png": "[encoded data removed]",
      "text/plain": [
       "<Figure size 640x480 with 1 Axes>"
      ]
     },
     "metadata": {},
     "output_type": "display_data"
    }
   ],
   "source": [
    "plt.plot(numbers, times)\n",
    "plt.xlabel(\"n, число предметов\")\n",
    "plt.ylabel(\"Время работы, c\")\n",
    "plt.xticks(np.arange(2, 24, 2))\n",
    "plt.title(\"Время работы FPRAS от числа предметов\")\n",
    "plt.show()"
   ]
  },
  {
   "cell_type": "code",
   "execution_count": 35,
   "metadata": {},
   "outputs": [],
   "source": [
    "f = open(\"dep_times_eps.txt\")\n",
    "lines = f.readlines()\n",
    "times = list()\n",
    "epsilons = list()\n",
    "for line in lines:\n",
    "    epsilon, t = map(float, line.split())\n",
    "    epsilons.append(epsilon)\n",
    "    times.append(t/10**6)"
   ]
  },
  {
   "cell_type": "code",
   "execution_count": 36,
   "metadata": {},
   "outputs": [
    {
     "data": {
      "image/png": "[encoded data removed]",
      "text/plain": [
       "<Figure size 640x480 with 1 Axes>"
      ]
     },
     "metadata": {},
     "output_type": "display_data"
    }
   ],
   "source": [
    "plt.plot(epsilons, times)\n",
    "plt.xlabel(\"Точность алгоритма\")\n",
    "plt.ylabel(\"Время работы, c\")\n",
    "plt.xticks(np.arange(0.5, 0.98, 0.1))\n",
    "plt.title(\"Время работы FPRAS от заданной точности\")\n",
    "plt.show()"
   ]
  },
  {
   "cell_type": "code",
   "execution_count": 37,
   "metadata": {},
   "outputs": [],
   "source": [
    "f = open(\"dep_times_delta.txt\")\n",
    "lines = f.readlines()\n",
    "times = list()\n",
    "deltas = list()\n",
    "for line in lines:\n",
    "    delta, t = map(float, line.split())\n",
    "    deltas.append(delta)\n",
    "    times.append(t/10**6)"
   ]
  },
  {
   "cell_type": "code",
   "execution_count": 38,
   "metadata": {},
   "outputs": [
    {
     "data": {
      "image/png": "[encoded data removed]",
      "text/plain": [
       "<Figure size 640x480 with 1 Axes>"
      ]
     },
     "metadata": {},
     "output_type": "display_data"
    }
   ],
   "source": [
    "plt.plot(deltas, times)\n",
    "plt.xlabel(\"Вероятность успеха алгоритма\")\n",
    "plt.ylabel(\"Время работы, c\")\n",
    "plt.xticks(np.arange(0.8, 0.99, 0.02))\n",
    "plt.title(\"Время работы FPRAS от заданной вероятности\")\n",
    "plt.show()"
   ]
  },
  {
   "cell_type": "code",
   "execution_count": 3,
   "metadata": {},
   "outputs": [],
   "source": [
    "a = [1]*9\n",
    "b = 3\n"
   ]
  },
  {
   "cell_type": "code",
   "execution_count": 4,
   "metadata": {},
   "outputs": [
    {
     "ename": "NameError",
     "evalue": "name 'a' is not defined",
     "output_type": "error",
     "traceback": [
      "\u001b[1;31m---------------------------------------------------------------------------\u001b[0m",
      "\u001b[1;31mNameError\u001b[0m                                 Traceback (most recent call last)",
      "Cell \u001b[1;32mIn[4], line 1\u001b[0m\n\u001b[1;32m----> 1\u001b[0m exact_result \u001b[38;5;241m=\u001b[39m exact_counting(\u001b[43ma\u001b[49m, b)\n",
      "\u001b[1;31mNameError\u001b[0m: name 'a' is not defined"
     ]
    }
   ],
   "source": [
    "exact_result = exact_counting(a, b)"
   ]
  },
  {
   "cell_type": "code",
   "execution_count": 7,
   "metadata": {},
   "outputs": [
    {
     "name": "stderr",
     "output_type": "stream",
     "text": [
      "  2%|▎         | 5/200 [00:10<06:53,  2.12s/it, correctness: 1.0]\n"
     ]
    },
    {
     "ename": "KeyboardInterrupt",
     "evalue": "",
     "output_type": "error",
     "traceback": [
      "\u001b[1;31m---------------------------------------------------------------------------\u001b[0m",
      "\u001b[1;31mKeyboardInterrupt\u001b[0m                         Traceback (most recent call last)",
      "Cell \u001b[1;32mIn[7], line 4\u001b[0m\n\u001b[0;32m      2\u001b[0m t \u001b[38;5;241m=\u001b[39m trange(\u001b[38;5;241m200\u001b[39m)\n\u001b[0;32m      3\u001b[0m \u001b[38;5;28;01mfor\u001b[39;00m i \u001b[38;5;129;01min\u001b[39;00m t:\n\u001b[1;32m----> 4\u001b[0m     result, error, probability \u001b[38;5;241m=\u001b[39m \u001b[43mfpras_knapsack\u001b[49m\u001b[43m(\u001b[49m\u001b[43ma\u001b[49m\u001b[43m,\u001b[49m\u001b[43m \u001b[49m\u001b[43mb\u001b[49m\u001b[43m,\u001b[49m\u001b[43m \u001b[49m\u001b[43mrng\u001b[49m\u001b[43m,\u001b[49m\u001b[43m \u001b[49m\u001b[43mdelta\u001b[49m\u001b[43m \u001b[49m\u001b[38;5;241;43m=\u001b[39;49m\u001b[43m \u001b[49m\u001b[38;5;241;43m0.2\u001b[39;49m\u001b[43m,\u001b[49m\u001b[43m \u001b[49m\u001b[43mepsilon\u001b[49m\u001b[38;5;241;43m=\u001b[39;49m\u001b[38;5;241;43m0.05\u001b[39;49m\u001b[43m)\u001b[49m\n\u001b[0;32m      5\u001b[0m     \u001b[38;5;28;01mif\u001b[39;00m \u001b[38;5;28mabs\u001b[39m(result \u001b[38;5;241m-\u001b[39m exact_result) \u001b[38;5;241m<\u001b[39m\u001b[38;5;241m=\u001b[39m error:\n\u001b[0;32m      6\u001b[0m         n_successes \u001b[38;5;241m+\u001b[39m\u001b[38;5;241m=\u001b[39m \u001b[38;5;241m1\u001b[39m\n",
      "File \u001b[1;32mc:\\Users\\2ds14\\knapsack_counting_course_work\\counting.py:75\u001b[0m, in \u001b[0;36mfpras_knapsack\u001b[1;34m(a, b, rng, epsilon, delta)\u001b[0m\n\u001b[0;32m     73\u001b[0m product \u001b[38;5;241m=\u001b[39m \u001b[38;5;241m1.0\u001b[39m\n\u001b[0;32m     74\u001b[0m \u001b[38;5;28;01mfor\u001b[39;00m i \u001b[38;5;129;01min\u001b[39;00m \u001b[38;5;28mrange\u001b[39m(\u001b[38;5;241m1\u001b[39m, k\u001b[38;5;241m+\u001b[39m\u001b[38;5;241m1\u001b[39m):\n\u001b[1;32m---> 75\u001b[0m     ratio \u001b[38;5;241m=\u001b[39m \u001b[43mestimate_ratio\u001b[49m\u001b[43m(\u001b[49m\n\u001b[0;32m     76\u001b[0m \u001b[43m        \u001b[49m\u001b[43ma_sorted\u001b[49m\u001b[43m,\u001b[49m\n\u001b[0;32m     77\u001b[0m \u001b[43m        \u001b[49m\u001b[43mb_sequence\u001b[49m\u001b[43m[\u001b[49m\u001b[43mi\u001b[49m\u001b[38;5;241;43m-\u001b[39;49m\u001b[38;5;241;43m1\u001b[39;49m\u001b[43m]\u001b[49m\u001b[43m,\u001b[49m\n\u001b[0;32m     78\u001b[0m \u001b[43m        \u001b[49m\u001b[43mb_sequence\u001b[49m\u001b[43m[\u001b[49m\u001b[43mi\u001b[49m\u001b[43m]\u001b[49m\u001b[43m,\u001b[49m\n\u001b[0;32m     79\u001b[0m \u001b[43m        \u001b[49m\u001b[43mepsilon\u001b[49m\u001b[43m \u001b[49m\u001b[38;5;241;43m/\u001b[39;49m\u001b[43m \u001b[49m\u001b[43mk\u001b[49m\u001b[43m,\u001b[49m\n\u001b[0;32m     80\u001b[0m \u001b[43m        \u001b[49m\u001b[43mdelta\u001b[49m\u001b[43m \u001b[49m\u001b[38;5;241;43m/\u001b[39;49m\u001b[43m \u001b[49m\u001b[43mk\u001b[49m\u001b[43m,\u001b[49m\n\u001b[0;32m     81\u001b[0m \u001b[43m        \u001b[49m\u001b[43mmixing_steps\u001b[49m\u001b[43m,\u001b[49m\n\u001b[0;32m     82\u001b[0m \u001b[43m        \u001b[49m\u001b[43mrng\u001b[49m\n\u001b[0;32m     83\u001b[0m \u001b[43m    \u001b[49m\u001b[43m)\u001b[49m\n\u001b[0;32m     84\u001b[0m     product \u001b[38;5;241m*\u001b[39m\u001b[38;5;241m=\u001b[39m ratio\n\u001b[0;32m     85\u001b[0m \u001b[38;5;28;01mreturn\u001b[39;00m product \u001b[38;5;241m*\u001b[39m omega_bk, (product\u001b[38;5;241m*\u001b[39momega_bk\u001b[38;5;241m*\u001b[39mepsilon), delta\n",
      "File \u001b[1;32mc:\\Users\\2ds14\\knapsack_counting_course_work\\counting.py:40\u001b[0m, in \u001b[0;36mestimate_ratio\u001b[1;34m(a, b_prev, b_current, epsilon, delta, mixing_steps, rng)\u001b[0m\n\u001b[0;32m     38\u001b[0m \u001b[38;5;28;01mfor\u001b[39;00m _ \u001b[38;5;129;01min\u001b[39;00m \u001b[38;5;28mrange\u001b[39m(num_samples):\n\u001b[0;32m     39\u001b[0m     chain \u001b[38;5;241m=\u001b[39m KnapsackMCMC(a, b_current)\n\u001b[1;32m---> 40\u001b[0m     \u001b[43mchain\u001b[49m\u001b[38;5;241;43m.\u001b[39;49m\u001b[43mrun_chain\u001b[49m\u001b[43m(\u001b[49m\u001b[43mmixing_steps\u001b[49m\u001b[43m,\u001b[49m\u001b[43m \u001b[49m\u001b[43mrng\u001b[49m\u001b[43m)\u001b[49m\n\u001b[0;32m     41\u001b[0m     \u001b[38;5;28;01mif\u001b[39;00m chain\u001b[38;5;241m.\u001b[39mcurrent_sum \u001b[38;5;241m<\u001b[39m\u001b[38;5;241m=\u001b[39m b_prev:\n\u001b[0;32m     42\u001b[0m         count \u001b[38;5;241m+\u001b[39m\u001b[38;5;241m=\u001b[39m \u001b[38;5;241m1\u001b[39m\n",
      "File \u001b[1;32mc:\\Users\\2ds14\\knapsack_counting_course_work\\counting.py:31\u001b[0m, in \u001b[0;36mKnapsackMCMC.run_chain\u001b[1;34m(self, steps, rng)\u001b[0m\n\u001b[0;32m     29\u001b[0m \u001b[38;5;28;01mdef\u001b[39;00m \u001b[38;5;21mrun_chain\u001b[39m(\u001b[38;5;28mself\u001b[39m, steps, rng):\n\u001b[0;32m     30\u001b[0m     \u001b[38;5;28;01mfor\u001b[39;00m _ \u001b[38;5;129;01min\u001b[39;00m \u001b[38;5;28mrange\u001b[39m(steps):\n\u001b[1;32m---> 31\u001b[0m         \u001b[38;5;28;43mself\u001b[39;49m\u001b[38;5;241;43m.\u001b[39;49m\u001b[43msingle_step\u001b[49m\u001b[43m(\u001b[49m\u001b[43mrng\u001b[49m\u001b[43m)\u001b[49m\n\u001b[0;32m     32\u001b[0m     \u001b[38;5;28;01mreturn\u001b[39;00m \u001b[38;5;28mself\u001b[39m\u001b[38;5;241m.\u001b[39mstate\u001b[38;5;241m.\u001b[39mcopy()\n",
      "File \u001b[1;32mc:\\Users\\2ds14\\knapsack_counting_course_work\\counting.py:18\u001b[0m, in \u001b[0;36mKnapsackMCMC.single_step\u001b[1;34m(self, rng)\u001b[0m\n\u001b[0;32m     15\u001b[0m     \u001b[38;5;28mself\u001b[39m\u001b[38;5;241m.\u001b[39mstate \u001b[38;5;241m=\u001b[39m np\u001b[38;5;241m.\u001b[39mzeros(\u001b[38;5;28mself\u001b[39m\u001b[38;5;241m.\u001b[39mn, dtype\u001b[38;5;241m=\u001b[39m\u001b[38;5;28mint\u001b[39m)\n\u001b[0;32m     16\u001b[0m     \u001b[38;5;28mself\u001b[39m\u001b[38;5;241m.\u001b[39mcurrent_sum \u001b[38;5;241m=\u001b[39m \u001b[38;5;241m0\u001b[39m\n\u001b[1;32m---> 18\u001b[0m \u001b[38;5;28;01mdef\u001b[39;00m \u001b[38;5;21msingle_step\u001b[39m(\u001b[38;5;28mself\u001b[39m, rng):\n\u001b[0;32m     19\u001b[0m     i \u001b[38;5;241m=\u001b[39m rng\u001b[38;5;241m.\u001b[39mintegers(\u001b[38;5;28mself\u001b[39m\u001b[38;5;241m.\u001b[39mn)\n\u001b[0;32m     20\u001b[0m     \u001b[38;5;28;01mif\u001b[39;00m \u001b[38;5;28mself\u001b[39m\u001b[38;5;241m.\u001b[39mstate[i] \u001b[38;5;241m==\u001b[39m \u001b[38;5;241m1\u001b[39m:\n",
      "\u001b[1;31mKeyboardInterrupt\u001b[0m: "
     ]
    }
   ],
   "source": [
    "n_successes = 0\n",
    "t = trange(200)\n",
    "for i in t:\n",
    "    result, error, probability = fpras_knapsack(a, b, rng, delta = 0.2, epsilon=0.05)\n",
    "    if abs(result - exact_result) <= error:\n",
    "        n_successes += 1\n",
    "    t.set_postfix_str(f\"correctness: {n_successes/(i+1)}\")\n",
    "print(n_successes)"
   ]
  },
  {
   "cell_type": "code",
   "execution_count": 5,
   "metadata": {},
   "outputs": [],
   "source": [
    "a = np.arange(1, 10)\n",
    "b = 10\n"
   ]
  },
  {
   "cell_type": "code",
   "execution_count": 6,
   "metadata": {},
   "outputs": [],
   "source": [
    "exact_result = exact_counting(a, b)"
   ]
  },
  {
   "cell_type": "code",
   "execution_count": 10,
   "metadata": {},
   "outputs": [
    {
     "name": "stdout",
     "output_type": "stream",
     "text": [
      "17\n"
     ]
    }
   ],
   "source": [
    "print(exact_result)"
   ]
  },
  {
   "cell_type": "code",
   "execution_count": 20,
   "metadata": {},
   "outputs": [
    {
     "name": "stdout",
     "output_type": "stream",
     "text": [
      "(19.03968253968254, 0.9519841269841272, 0.2)\n"
     ]
    }
   ],
   "source": [
    "print(fpras_knapsack(a, b, rng, delta = 0.2, epsilon=0.05))"
   ]
  },
  {
   "cell_type": "code",
   "execution_count": 11,
   "metadata": {},
   "outputs": [
    {
     "name": "stderr",
     "output_type": "stream",
     "text": [
      "  2%|▏         | 4/200 [00:04<03:47,  1.16s/it, correctness: 0.5]               \n"
     ]
    },
    {
     "ename": "KeyboardInterrupt",
     "evalue": "",
     "output_type": "error",
     "traceback": [
      "\u001b[1;31m---------------------------------------------------------------------------\u001b[0m",
      "\u001b[1;31mKeyboardInterrupt\u001b[0m                         Traceback (most recent call last)",
      "Cell \u001b[1;32mIn[11], line 4\u001b[0m\n\u001b[0;32m      2\u001b[0m t \u001b[38;5;241m=\u001b[39m trange(\u001b[38;5;241m200\u001b[39m)\n\u001b[0;32m      3\u001b[0m \u001b[38;5;28;01mfor\u001b[39;00m i \u001b[38;5;129;01min\u001b[39;00m t:\n\u001b[1;32m----> 4\u001b[0m     result, error, probability \u001b[38;5;241m=\u001b[39m \u001b[43mfpras_knapsack\u001b[49m\u001b[43m(\u001b[49m\u001b[43ma\u001b[49m\u001b[43m,\u001b[49m\u001b[43m \u001b[49m\u001b[43mb\u001b[49m\u001b[43m,\u001b[49m\u001b[43m \u001b[49m\u001b[43mrng\u001b[49m\u001b[43m,\u001b[49m\u001b[43m \u001b[49m\u001b[43mdelta\u001b[49m\u001b[43m \u001b[49m\u001b[38;5;241;43m=\u001b[39;49m\u001b[43m \u001b[49m\u001b[38;5;241;43m0.2\u001b[39;49m\u001b[43m,\u001b[49m\u001b[43m \u001b[49m\u001b[43mepsilon\u001b[49m\u001b[38;5;241;43m=\u001b[39;49m\u001b[38;5;241;43m0.05\u001b[39;49m\u001b[43m)\u001b[49m\n\u001b[0;32m      5\u001b[0m     \u001b[38;5;28;01mif\u001b[39;00m \u001b[38;5;28mabs\u001b[39m(result \u001b[38;5;241m-\u001b[39m exact_result) \u001b[38;5;241m<\u001b[39m\u001b[38;5;241m=\u001b[39m error:\n\u001b[0;32m      6\u001b[0m         n_successes \u001b[38;5;241m+\u001b[39m\u001b[38;5;241m=\u001b[39m \u001b[38;5;241m1\u001b[39m\n",
      "File \u001b[1;32mc:\\Users\\2ds14\\knapsack_counting_course_work\\counting.py:69\u001b[0m, in \u001b[0;36mfpras_knapsack\u001b[1;34m(a, b, rng, epsilon, delta)\u001b[0m\n\u001b[0;32m     67\u001b[0m \u001b[38;5;28;01mfor\u001b[39;00m _ \u001b[38;5;129;01min\u001b[39;00m \u001b[38;5;28mrange\u001b[39m(num_samples):\n\u001b[0;32m     68\u001b[0m     chain_omega \u001b[38;5;241m=\u001b[39m KnapsackMCMC(a_sorted, b)\n\u001b[1;32m---> 69\u001b[0m     \u001b[43mchain_omega\u001b[49m\u001b[38;5;241;43m.\u001b[39;49m\u001b[43mrun_chain\u001b[49m\u001b[43m(\u001b[49m\u001b[43mmixing_steps\u001b[49m\u001b[43m,\u001b[49m\u001b[43m \u001b[49m\u001b[43mrng\u001b[49m\u001b[43m)\u001b[49m\n\u001b[0;32m     70\u001b[0m     \u001b[38;5;28;01mif\u001b[39;00m chain_omega\u001b[38;5;241m.\u001b[39mcurrent_sum \u001b[38;5;241m<\u001b[39m\u001b[38;5;241m=\u001b[39m b_sequence[\u001b[38;5;241m-\u001b[39m\u001b[38;5;241m1\u001b[39m]:\n\u001b[0;32m     71\u001b[0m         count_omega \u001b[38;5;241m+\u001b[39m\u001b[38;5;241m=\u001b[39m \u001b[38;5;241m1\u001b[39m\n",
      "File \u001b[1;32mc:\\Users\\2ds14\\knapsack_counting_course_work\\counting.py:31\u001b[0m, in \u001b[0;36mKnapsackMCMC.run_chain\u001b[1;34m(self, steps, rng)\u001b[0m\n\u001b[0;32m     29\u001b[0m \u001b[38;5;28;01mdef\u001b[39;00m \u001b[38;5;21mrun_chain\u001b[39m(\u001b[38;5;28mself\u001b[39m, steps, rng):\n\u001b[0;32m     30\u001b[0m     \u001b[38;5;28;01mfor\u001b[39;00m _ \u001b[38;5;129;01min\u001b[39;00m \u001b[38;5;28mrange\u001b[39m(steps):\n\u001b[1;32m---> 31\u001b[0m         \u001b[38;5;28mself\u001b[39m\u001b[38;5;241m.\u001b[39msingle_step(rng)\n\u001b[0;32m     32\u001b[0m     \u001b[38;5;28;01mreturn\u001b[39;00m \u001b[38;5;28mself\u001b[39m\u001b[38;5;241m.\u001b[39mstate\u001b[38;5;241m.\u001b[39mcopy()\n",
      "\u001b[1;31mKeyboardInterrupt\u001b[0m: "
     ]
    }
   ],
   "source": [
    "n_successes = 0\n",
    "t = trange(200)\n",
    "for i in t:\n",
    "    result, error, probability = fpras_knapsack(a, b, rng, delta = 0.2, epsilon=0.05)\n",
    "    if abs(result - exact_result) <= error:\n",
    "        n_successes += 1\n",
    "    t.set_postfix_str(f\"correctness: {n_successes/(i+1)}\")\n",
    "print(n_successes)"
   ]
  },
  {
   "cell_type": "code",
   "execution_count": 10,
   "metadata": {},
   "outputs": [
    {
     "name": "stderr",
     "output_type": "stream",
     "text": [
      "100%|██████████| 200/200 [1:03:33<00:00, 19.07s/it, correctness: 0.96]              "
     ]
    },
    {
     "name": "stdout",
     "output_type": "stream",
     "text": [
      "192\n"
     ]
    },
    {
     "name": "stderr",
     "output_type": "stream",
     "text": [
      "\n"
     ]
    }
   ],
   "source": [
    "n_successes = 0\n",
    "t = trange(200)\n",
    "for i in t:\n",
    "    result, error, probability = fpras_knapsack(a, b, rng, delta = 0.05, epsilon=0.05)\n",
    "    if abs(result - exact_result) <= error:\n",
    "        n_successes += 1\n",
    "    t.set_postfix_str(f\"correctness: {n_successes/(i+1)}\")\n",
    "print(n_successes)"
   ]
  },
  {
   "cell_type": "code",
   "execution_count": 11,
   "metadata": {},
   "outputs": [],
   "source": [
    "a = [1]*16\n",
    "b = 4"
   ]
  },
  {
   "cell_type": "code",
   "execution_count": 13,
   "metadata": {},
   "outputs": [],
   "source": [
    "exact_result = exact_counting(a, b)"
   ]
  },
  {
   "cell_type": "code",
   "execution_count": 9,
   "metadata": {},
   "outputs": [
    {
     "name": "stderr",
     "output_type": "stream",
     "text": [
      "100%|██████████| 200/200 [01:41<00:00,  1.97it/s, correctness: 0.48]               "
     ]
    },
    {
     "name": "stdout",
     "output_type": "stream",
     "text": [
      "96\n"
     ]
    },
    {
     "name": "stderr",
     "output_type": "stream",
     "text": [
      "\n"
     ]
    }
   ],
   "source": [
    "n_successes = 0\n",
    "t = trange(200)\n",
    "for i in t:\n",
    "    result, error, probability = fpras_knapsack(a, b, rng, delta = 0.2, epsilon=0.05)\n",
    "    if abs(result - exact_result) <= error:\n",
    "        n_successes += 1\n",
    "    t.set_postfix_str(f\"correctness: {n_successes/(i+1)}\")\n",
    "print(n_successes)"
   ]
  },
  {
   "cell_type": "code",
   "execution_count": 15,
   "metadata": {},
   "outputs": [
    {
     "name": "stderr",
     "output_type": "stream",
     "text": [
      "100%|██████████| 200/200 [1:40:45<00:00, 30.23s/it, correctness: 0.985]             "
     ]
    },
    {
     "name": "stdout",
     "output_type": "stream",
     "text": [
      "197\n"
     ]
    },
    {
     "name": "stderr",
     "output_type": "stream",
     "text": [
      "\n"
     ]
    }
   ],
   "source": [
    "n_successes = 0\n",
    "t = trange(200)\n",
    "for i in t:\n",
    "    result, error, probability = fpras_knapsack(a, b, rng, delta = 0.05, epsilon=0.05)\n",
    "    if abs(result - exact_result) <= error:\n",
    "        n_successes += 1\n",
    "    t.set_postfix_str(f\"correctness: {n_successes/(i+1)}\")\n",
    "print(n_successes)"
   ]
  },
  {
   "cell_type": "code",
   "execution_count": 3,
   "metadata": {},
   "outputs": [],
   "source": [
    "a = [1]*16\n",
    "b = 1"
   ]
  },
  {
   "cell_type": "code",
   "execution_count": 4,
   "metadata": {},
   "outputs": [],
   "source": [
    "exact_result = exact_counting(a, b)"
   ]
  },
  {
   "cell_type": "code",
   "execution_count": 5,
   "metadata": {},
   "outputs": [
    {
     "name": "stderr",
     "output_type": "stream",
     "text": [
      "  0%|          | 0/200 [00:00<?, ?it/s]"
     ]
    },
    {
     "name": "stderr",
     "output_type": "stream",
     "text": [
      "\n"
     ]
    },
    {
     "ename": "NameError",
     "evalue": "name 'rng' is not defined",
     "output_type": "error",
     "traceback": [
      "\u001b[1;31m---------------------------------------------------------------------------\u001b[0m",
      "\u001b[1;31mNameError\u001b[0m                                 Traceback (most recent call last)",
      "Cell \u001b[1;32mIn[5], line 4\u001b[0m\n\u001b[0;32m      2\u001b[0m t \u001b[38;5;241m=\u001b[39m trange(\u001b[38;5;241m200\u001b[39m)\n\u001b[0;32m      3\u001b[0m \u001b[38;5;28;01mfor\u001b[39;00m i \u001b[38;5;129;01min\u001b[39;00m t:\n\u001b[1;32m----> 4\u001b[0m     result, error, probability \u001b[38;5;241m=\u001b[39m fpras_knapsack(a, b, \u001b[43mrng\u001b[49m, delta \u001b[38;5;241m=\u001b[39m \u001b[38;5;241m0.2\u001b[39m, epsilon\u001b[38;5;241m=\u001b[39m\u001b[38;5;241m0.05\u001b[39m)\n\u001b[0;32m      5\u001b[0m     \u001b[38;5;28;01mif\u001b[39;00m \u001b[38;5;28mabs\u001b[39m(result \u001b[38;5;241m-\u001b[39m exact_result) \u001b[38;5;241m<\u001b[39m\u001b[38;5;241m=\u001b[39m error:\n\u001b[0;32m      6\u001b[0m         n_successes \u001b[38;5;241m+\u001b[39m\u001b[38;5;241m=\u001b[39m \u001b[38;5;241m1\u001b[39m\n",
      "\u001b[1;31mNameError\u001b[0m: name 'rng' is not defined"
     ]
    }
   ],
   "source": [
    "n_successes = 0\n",
    "t = trange(200)\n",
    "for i in t:\n",
    "    result, error, probability = fpras_knapsack(a, b, rng, delta = 0.2, epsilon=0.05)\n",
    "    if abs(result - exact_result) <= error:\n",
    "        n_successes += 1\n",
    "    t.set_postfix_str(f\"correctness: {n_successes/(i+1)}\")\n",
    "print(n_successes)"
   ]
  },
  {
   "cell_type": "code",
   "execution_count": 21,
   "metadata": {},
   "outputs": [
    {
     "name": "stderr",
     "output_type": "stream",
     "text": [
      "100%|██████████| 200/200 [02:04<00:00,  1.60it/s, correctness: 0.475]              "
     ]
    },
    {
     "name": "stdout",
     "output_type": "stream",
     "text": [
      "95\n"
     ]
    },
    {
     "name": "stderr",
     "output_type": "stream",
     "text": [
      "\n"
     ]
    }
   ],
   "source": [
    "n_successes = 0\n",
    "t = trange(200)\n",
    "for i in t:\n",
    "    result, error, probability = fpras_knapsack(a, b, rng, delta = 0.05, epsilon=0.05)\n",
    "    if abs(result - exact_result) <= error:\n",
    "        n_successes += 1\n",
    "    t.set_postfix_str(f\"correctness: {n_successes/(i+1)}\")\n",
    "print(n_successes)"
   ]
  },
  {
   "cell_type": "code",
   "execution_count": 123,
   "metadata": {},
   "outputs": [
    {
     "name": "stderr",
     "output_type": "stream",
     "text": [
      "Processing d: 100%|██████████| 4/4 [00:00<00:00, 798.80it/s]\n"
     ]
    }
   ],
   "source": [
    "pbar = tqdm([\"a\", \"b\", \"c\", \"d\"])\n",
    "for char in pbar:\n",
    "    pbar.set_description(\"Processing %s\" % char)"
   ]
  },
  {
   "cell_type": "code",
   "execution_count": null,
   "metadata": {},
   "outputs": [
    {
     "name": "stdout",
     "output_type": "stream",
     "text": [
      "Среднее расстояние после 100000 шагов: 1.0000\n"
     ]
    }
   ],
   "source": [
    "import numpy as np\n",
    "\n",
    "class KnapsackCoupling:\n",
    "    def __init__(self, weights, capacity, differing_item):\n",
    "        self.weights = weights\n",
    "        self.n = len(weights)\n",
    "        self.C = capacity\n",
    "        self.differing_item = differing_item  # Индекс предмета j, по которому отличаются S и T\n",
    "\n",
    "        # Инициализация состояний S и T\n",
    "        self.S = [0] * self.n\n",
    "        self.T = [0] * self.n\n",
    "        self.S[differing_item] = 1  # S содержит differing_item\n",
    "        self.T[differing_item] = 0  # T — не содержит\n",
    "\n",
    "        # Проверка валидности\n",
    "        assert self.get_weight(self.S) <= self.C, \"S должно быть валидным\"\n",
    "        assert self.get_weight(self.T) <= self.C, \"T должно быть валидным\"\n",
    "\n",
    "    def get_weight(self, state):\n",
    "        return sum(w * s for w, s in zip(self.weights, state))\n",
    "\n",
    "    def is_add_allowed(self, state, item):\n",
    "        return (self.get_weight(state) + self.weights[item]) <= self.C\n",
    "\n",
    "    def coupled_transition(self):\n",
    "        k = np.random.randint(self.n)  # Случайный выбор предмета\n",
    "        new_S = self.S.copy()\n",
    "        new_T = self.T.copy()\n",
    "\n",
    "        if k != self.differing_item:\n",
    "            # Синхронизированное обновление для k != differing_item\n",
    "            # Удаляем или добавляем k в оба состояния, если возможно\n",
    "            if self.S[k] == 1:\n",
    "                new_S[k] = 0\n",
    "                new_T[k] = 0\n",
    "            else:\n",
    "                if self.is_add_allowed(self.S, k):\n",
    "                    new_S[k] = 1\n",
    "                if self.is_add_allowed(self.T, k):\n",
    "                    new_T[k] = 1\n",
    "        else:\n",
    "            # Обработка differing_item (j)\n",
    "            # Удаляем j из S\n",
    "            new_S[self.differing_item] = 0\n",
    "            # Пытаемся добавить j в T\n",
    "            if self.is_add_allowed(self.T, self.differing_item):\n",
    "                new_T[self.differing_item] = 1\n",
    "            else:\n",
    "                new_T = self.T.copy()  # Если нельзя, оставляем T без изменений\n",
    "\n",
    "        # Возвращаем новые состояния\n",
    "        return new_S, new_T\n",
    "\n",
    "    def distance(self, state1, state2):\n",
    "        return sum(s1 != s2 for s1, s2 in zip(state1, state2))\n",
    "\n",
    "    def simulate(self, trials=10000):\n",
    "        total_distance = 0\n",
    "        current_S = self.S.copy()\n",
    "        current_T = self.T.copy()\n",
    "\n",
    "        for _ in range(trials):\n",
    "            # Обновляем состояния на каждом шаге\n",
    "            new_S, new_T = self.coupled_transition()\n",
    "            current_S, current_T = new_S, new_T\n",
    "            total_distance += self.distance(current_S, current_T)\n",
    "\n",
    "        avg_distance = total_distance / trials\n",
    "        return avg_distance\n",
    "\n",
    "# Пример с параметрами, где расстояние уменьшается\n",
    "weights = [5, 5, 5]  # Веса предметов\n",
    "capacity = 10         # Вместимость рюкзака\n",
    "differing_item = 0    # Индекс предмета, по которому отличаются S и T\n",
    "\n",
    "kp = KnapsackCoupling(weights, capacity, differing_item)\n",
    "avg_distance = kp.simulate(trials=100000)\n",
    "print(f\"Среднее расстояние после 100000 шагов: {avg_distance:.4f}\")"
   ]
  },
  {
   "cell_type": "code",
   "execution_count": null,
   "metadata": {},
   "outputs": [
    {
     "data": {
      "text/plain": [
       "99"
      ]
     },
     "execution_count": 9,
     "metadata": {},
     "output_type": "execute_result"
    }
   ],
   "source": [
    "i"
   ]
  },
  {
   "cell_type": "code",
   "execution_count": null,
   "metadata": {},
   "outputs": [
    {
     "ename": "KeyboardInterrupt",
     "evalue": "",
     "output_type": "error",
     "traceback": [
      "\u001b[1;31m---------------------------------------------------------------------------\u001b[0m",
      "\u001b[1;31mKeyboardInterrupt\u001b[0m                         Traceback (most recent call last)",
      "Cell \u001b[1;32mIn[10], line 77\u001b[0m\n\u001b[0;32m     74\u001b[0m differing_item \u001b[38;5;241m=\u001b[39m \u001b[38;5;241m2\u001b[39m    \u001b[38;5;66;03m# Индекс предмета j (вес 4)\u001b[39;00m\n\u001b[0;32m     76\u001b[0m kp \u001b[38;5;241m=\u001b[39m KnapsackCoupling(weights, capacity, differing_item)\n\u001b[1;32m---> 77\u001b[0m avg_distance \u001b[38;5;241m=\u001b[39m \u001b[43mkp\u001b[49m\u001b[38;5;241;43m.\u001b[39;49m\u001b[43msimulate\u001b[49m\u001b[43m(\u001b[49m\u001b[43m)\u001b[49m\n\u001b[0;32m     78\u001b[0m \u001b[38;5;28mprint\u001b[39m(\u001b[38;5;124mf\u001b[39m\u001b[38;5;124m\"\u001b[39m\u001b[38;5;124mСреднее расстояние после \u001b[39m\u001b[38;5;132;01m{\u001b[39;00mtrials\u001b[38;5;132;01m}\u001b[39;00m\u001b[38;5;124m шагов: \u001b[39m\u001b[38;5;132;01m{\u001b[39;00mavg_distance\u001b[38;5;132;01m:\u001b[39;00m\u001b[38;5;124m.4f\u001b[39m\u001b[38;5;132;01m}\u001b[39;00m\u001b[38;5;124m\"\u001b[39m)\n",
      "Cell \u001b[1;32mIn[10], line 64\u001b[0m, in \u001b[0;36mKnapsackCoupling.simulate\u001b[1;34m(self, trials)\u001b[0m\n\u001b[0;32m     61\u001b[0m total_distance \u001b[38;5;241m=\u001b[39m \u001b[38;5;241m0\u001b[39m\n\u001b[0;32m     63\u001b[0m \u001b[38;5;28;01mfor\u001b[39;00m _ \u001b[38;5;129;01min\u001b[39;00m \u001b[38;5;28mrange\u001b[39m(trials):\n\u001b[1;32m---> 64\u001b[0m     new_S, new_T \u001b[38;5;241m=\u001b[39m \u001b[38;5;28;43mself\u001b[39;49m\u001b[38;5;241;43m.\u001b[39;49m\u001b[43mcoupled_transition\u001b[49m\u001b[43m(\u001b[49m\u001b[43mcurrent_S\u001b[49m\u001b[43m,\u001b[49m\u001b[43m \u001b[49m\u001b[43mcurrent_T\u001b[49m\u001b[43m)\u001b[49m\n\u001b[0;32m     65\u001b[0m     current_S, current_T \u001b[38;5;241m=\u001b[39m new_S, new_T  \u001b[38;5;66;03m# Обновляем состояния\u001b[39;00m\n\u001b[0;32m     66\u001b[0m     total_distance \u001b[38;5;241m+\u001b[39m\u001b[38;5;241m=\u001b[39m \u001b[38;5;28mself\u001b[39m\u001b[38;5;241m.\u001b[39mdistance(current_S, current_T)\n",
      "Cell \u001b[1;32mIn[10], line 28\u001b[0m, in \u001b[0;36mKnapsackCoupling.coupled_transition\u001b[1;34m(self, current_S, current_T)\u001b[0m\n\u001b[0;32m     26\u001b[0m \u001b[38;5;28;01mdef\u001b[39;00m \u001b[38;5;21mcoupled_transition\u001b[39m(\u001b[38;5;28mself\u001b[39m, current_S, current_T):\n\u001b[0;32m     27\u001b[0m     k \u001b[38;5;241m=\u001b[39m np\u001b[38;5;241m.\u001b[39mrandom\u001b[38;5;241m.\u001b[39mrandint(\u001b[38;5;28mself\u001b[39m\u001b[38;5;241m.\u001b[39mn)  \u001b[38;5;66;03m# Случайный выбор предмета\u001b[39;00m\n\u001b[1;32m---> 28\u001b[0m     new_S \u001b[38;5;241m=\u001b[39m \u001b[43mcurrent_S\u001b[49m\u001b[38;5;241;43m.\u001b[39;49m\u001b[43mcopy\u001b[49m\u001b[43m(\u001b[49m\u001b[43m)\u001b[49m\n\u001b[0;32m     29\u001b[0m     new_T \u001b[38;5;241m=\u001b[39m current_T\u001b[38;5;241m.\u001b[39mcopy()\n\u001b[0;32m     31\u001b[0m     \u001b[38;5;28;01mif\u001b[39;00m k \u001b[38;5;241m!=\u001b[39m \u001b[38;5;28mself\u001b[39m\u001b[38;5;241m.\u001b[39mdiffering_item:\n\u001b[0;32m     32\u001b[0m         \u001b[38;5;66;03m# Синхронизированное обновление для k ≠ j\u001b[39;00m\n",
      "\u001b[1;31mKeyboardInterrupt\u001b[0m: "
     ]
    }
   ],
   "source": [
    "import numpy as np\n",
    "\n",
    "class KnapsackCoupling:\n",
    "    def __init__(self, weights, capacity, differing_item):\n",
    "        self.weights = weights\n",
    "        self.n = len(weights)\n",
    "        self.C = capacity\n",
    "        self.differing_item = differing_item  # Предмет j, по которому отличаются S и T\n",
    "\n",
    "        # Инициализация состояний S и T\n",
    "        self.S = [0] * self.n\n",
    "        self.T = [0] * self.n\n",
    "        self.S[differing_item] = 1  # S содержит differing_item\n",
    "        self.T[differing_item] = 0  # T — не содержит\n",
    "\n",
    "        # Проверка валидности\n",
    "        assert self.get_weight(self.S) <= self.C, \"S должно быть валидным\"\n",
    "        assert self.get_weight(self.T) <= self.C, \"T должно быть валидным\"\n",
    "\n",
    "    def get_weight(self, state):\n",
    "        return sum(w * s for w, s in zip(self.weights, state))\n",
    "\n",
    "    def is_add_allowed(self, state, item):\n",
    "        return (self.get_weight(state) + self.weights[item]) <= self.C\n",
    "\n",
    "    def coupled_transition(self, current_S, current_T):\n",
    "        k = np.random.randint(self.n)  # Случайный выбор предмета\n",
    "        new_S = current_S.copy()\n",
    "        new_T = current_T.copy()\n",
    "\n",
    "        if k != self.differing_item:\n",
    "            # Синхронизированное обновление для k ≠ j\n",
    "            if current_S[k] == 1:\n",
    "                # Удаляем k из обоих состояний\n",
    "                new_S[k] = 0\n",
    "                new_T[k] = 0\n",
    "            else:\n",
    "                # Пытаемся добавить k в оба состояния, если возможно\n",
    "                if self.is_add_allowed(current_S, k):\n",
    "                    new_S[k] = 1\n",
    "                if self.is_add_allowed(current_T, k):\n",
    "                    new_T[k] = 1\n",
    "        else:\n",
    "            # Обработка предмета j\n",
    "            # Удаляем j из S\n",
    "            new_S[self.differing_item] = 0\n",
    "            # Пытаемся добавить j в T только если это возможно\n",
    "            if self.is_add_allowed(current_T, self.differing_item):\n",
    "                new_T[self.differing_item] = 1\n",
    "            else:\n",
    "                new_T[self.differing_item] = 0  # Явно запрещаем добавление\n",
    "\n",
    "        return new_S, new_T\n",
    "\n",
    "    def distance(self, state1, state2):\n",
    "        return sum(s1 != s2 for s1, s2 in zip(state1, state2))\n",
    "\n",
    "    def simulate(self, trials=10**9):\n",
    "        current_S = self.S.copy()\n",
    "        current_T = self.T.copy()\n",
    "        total_distance = 0\n",
    "\n",
    "        for _ in range(trials):\n",
    "            new_S, new_T = self.coupled_transition(current_S, current_T)\n",
    "            current_S, current_T = new_S, new_T  # Обновляем состояния\n",
    "            total_distance += self.distance(current_S, current_T)\n",
    "\n",
    "        avg_distance = total_distance / trials\n",
    "        return avg_distance\n",
    "\n",
    "# Пример с параметрами, где расстояние уменьшается\n",
    "weights = [1]*10  # Веса предметов\n",
    "capacity = 5          # Вместимость рюкзака\n",
    "differing_item = 2    # Индекс предмета j (вес 4)\n",
    "\n",
    "kp = KnapsackCoupling(weights, capacity, differing_item)\n",
    "avg_distance = kp.simulate()\n",
    "print(f\"Среднее расстояние после {trials} шагов: {avg_distance:.4f}\")"
   ]
  },
  {
   "cell_type": "code",
   "execution_count": null,
   "metadata": {},
   "outputs": [],
   "source": []
  },
  {
   "cell_type": "code",
   "execution_count": null,
   "metadata": {},
   "outputs": [],
   "source": []
  },
  {
   "cell_type": "code",
   "execution_count": null,
   "metadata": {},
   "outputs": [],
   "source": []
  },
  {
   "cell_type": "code",
   "execution_count": null,
   "metadata": {},
   "outputs": [],
   "source": []
  },
  {
   "cell_type": "code",
   "execution_count": null,
   "metadata": {},
   "outputs": [],
   "source": []
  },
  {
   "cell_type": "code",
   "execution_count": null,
   "metadata": {},
   "outputs": [],
   "source": []
  },
  {
   "cell_type": "code",
   "execution_count": null,
   "metadata": {},
   "outputs": [],
   "source": []
  },
  {
   "cell_type": "code",
   "execution_count": null,
   "metadata": {},
   "outputs": [],
   "source": []
  },
  {
   "cell_type": "code",
   "execution_count": null,
   "metadata": {},
   "outputs": [],
   "source": []
  },
  {
   "cell_type": "code",
   "execution_count": null,
   "metadata": {},
   "outputs": [],
   "source": []
  },
  {
   "cell_type": "code",
   "execution_count": null,
   "metadata": {},
   "outputs": [],
   "source": []
  },
  {
   "cell_type": "code",
   "execution_count": null,
   "metadata": {},
   "outputs": [],
   "source": []
  },
  {
   "cell_type": "code",
   "execution_count": null,
   "metadata": {},
   "outputs": [],
   "source": []
  },
  {
   "cell_type": "code",
   "execution_count": null,
   "metadata": {},
   "outputs": [],
   "source": []
  },
  {
   "cell_type": "code",
   "execution_count": null,
   "metadata": {},
   "outputs": [],
   "source": []
  },
  {
   "cell_type": "code",
   "execution_count": null,
   "metadata": {},
   "outputs": [],
   "source": []
  },
  {
   "cell_type": "code",
   "execution_count": null,
   "metadata": {},
   "outputs": [],
   "source": []
  },
  {
   "cell_type": "code",
   "execution_count": null,
   "metadata": {},
   "outputs": [],
   "source": []
  },
  {
   "cell_type": "code",
   "execution_count": null,
   "metadata": {},
   "outputs": [],
   "source": []
  },
  {
   "cell_type": "code",
   "execution_count": null,
   "metadata": {},
   "outputs": [],
   "source": []
  },
  {
   "cell_type": "code",
   "execution_count": null,
   "metadata": {},
   "outputs": [],
   "source": []
  },
  {
   "cell_type": "code",
   "execution_count": null,
   "metadata": {},
   "outputs": [],
   "source": []
  },
  {
   "cell_type": "code",
   "execution_count": null,
   "metadata": {},
   "outputs": [],
   "source": []
  },
  {
   "cell_type": "code",
   "execution_count": null,
   "metadata": {},
   "outputs": [],
   "source": []
  },
  {
   "cell_type": "code",
   "execution_count": null,
   "metadata": {},
   "outputs": [],
   "source": []
  },
  {
   "cell_type": "code",
   "execution_count": null,
   "metadata": {},
   "outputs": [],
   "source": []
  },
  {
   "cell_type": "code",
   "execution_count": null,
   "metadata": {},
   "outputs": [],
   "source": []
  },
  {
   "cell_type": "code",
   "execution_count": null,
   "metadata": {},
   "outputs": [],
   "source": []
  },
  {
   "cell_type": "code",
   "execution_count": null,
   "metadata": {},
   "outputs": [],
   "source": []
  },
  {
   "cell_type": "code",
   "execution_count": null,
   "metadata": {},
   "outputs": [],
   "source": []
  },
  {
   "cell_type": "code",
   "execution_count": null,
   "metadata": {},
   "outputs": [],
   "source": []
  },
  {
   "cell_type": "code",
   "execution_count": null,
   "metadata": {},
   "outputs": [],
   "source": []
  },
  {
   "cell_type": "code",
   "execution_count": null,
   "metadata": {},
   "outputs": [],
   "source": []
  },
  {
   "cell_type": "code",
   "execution_count": null,
   "metadata": {},
   "outputs": [
    {
     "name": "stdout",
     "output_type": "stream",
     "text": [
      "True\n"
     ]
    }
   ],
   "source": []
  },
  {
   "cell_type": "code",
   "execution_count": null,
   "metadata": {},
   "outputs": [
    {
     "name": "stdout",
     "output_type": "stream",
     "text": [
      "0.9285714285714286\n"
     ]
    }
   ],
   "source": [
    "print(n_successes/28)"
   ]
  },
  {
   "cell_type": "code",
   "execution_count": null,
   "metadata": {},
   "outputs": [
    {
     "name": "stdout",
     "output_type": "stream",
     "text": [
      "100\n"
     ]
    }
   ],
   "source": [
    "print(n_successes)"
   ]
  }
 ],
 "metadata": {
  "kernelspec": {
   "display_name": "Python 3",
   "language": "python",
   "name": "python3"
  },
  "language_info": {
   "codemirror_mode": {
    "name": "ipython",
    "version": 3
   },
   "file_extension": ".py",
   "mimetype": "text/x-python",
   "name": "python",
   "nbconvert_exporter": "python",
   "pygments_lexer": "ipython3",
   "version": "3.12.4"
  }
 },
 "nbformat": 4,
 "nbformat_minor": 4
}
